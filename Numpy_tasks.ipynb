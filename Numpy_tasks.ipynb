{
  "cells": [
    {
      "cell_type": "markdown",
      "metadata": {
        "id": "view-in-github",
        "colab_type": "text"
      },
      "source": [
        "<a href=\"https://colab.research.google.com/github/iamfarooq4u/iamfarooq4u/blob/main/Numpy_tasks.ipynb\" target=\"_parent\"><img src=\"https://colab.research.google.com/assets/colab-badge.svg\" alt=\"Open In Colab\"/></a>"
      ]
    },
    {
      "cell_type": "markdown",
      "metadata": {
        "id": "Bzk99K1w28oy"
      },
      "source": [
        "# Numpy\n",
        "\n"
      ]
    },
    {
      "cell_type": "markdown",
      "metadata": {
        "id": "j9i2Beae28pA"
      },
      "source": [
        "#### 1. Import the numpy package under the name `np` (★☆☆) \n",
        "(**hint**: import … as …)"
      ]
    },
    {
      "cell_type": "code",
      "execution_count": null,
      "metadata": {
        "collapsed": true,
        "id": "UCForXdr28pH"
      },
      "outputs": [],
      "source": [
        "import numpy as np"
      ]
    },
    {
      "cell_type": "markdown",
      "metadata": {
        "id": "9z8b78Am28pK"
      },
      "source": [
        "# #### 2. Print the numpy version and the configuration (★☆☆) \n",
        "(**hint**: np.\\_\\_version\\_\\_, np.show\\_config)"
      ]
    },
    {
      "cell_type": "code",
      "execution_count": null,
      "metadata": {
        "id": "8sLWXdMK28pN",
        "colab": {
          "base_uri": "https://localhost:8080/"
        },
        "outputId": "d9aa8eea-1e76-414b-c42a-64ba86a1f351"
      },
      "outputs": [
        {
          "output_type": "stream",
          "name": "stdout",
          "text": [
            "1.19.5\n"
          ]
        }
      ],
      "source": [
        "import numpy\n",
        "print(numpy.__version__)"
      ]
    },
    {
      "cell_type": "code",
      "source": [
        "import numpy; print(numpy.__version__)"
      ],
      "metadata": {
        "colab": {
          "base_uri": "https://localhost:8080/"
        },
        "id": "dP710Wth4aK5",
        "outputId": "d9d52c8e-8e3d-4a01-9dbd-862f8750cb96"
      },
      "execution_count": null,
      "outputs": [
        {
          "output_type": "stream",
          "name": "stdout",
          "text": [
            "1.19.5\n"
          ]
        }
      ]
    },
    {
      "cell_type": "code",
      "source": [
        "np.version"
      ],
      "metadata": {
        "colab": {
          "base_uri": "https://localhost:8080/"
        },
        "id": "1lnU2pTc4wro",
        "outputId": "0341cf9f-7803-4c94-f335-22b90c3f6416"
      },
      "execution_count": null,
      "outputs": [
        {
          "output_type": "execute_result",
          "data": {
            "text/plain": [
              "<module 'numpy.version' from '/usr/local/lib/python3.7/dist-packages/numpy/version.py'>"
            ]
          },
          "metadata": {},
          "execution_count": 10
        }
      ]
    },
    {
      "cell_type": "markdown",
      "metadata": {
        "id": "D-16DE6B28pQ"
      },
      "source": [
        "#### 3. Create a null vector of size 10 (★☆☆) \n",
        "(**hint**: np.zeros)"
      ]
    },
    {
      "cell_type": "code",
      "execution_count": null,
      "metadata": {
        "id": "-u3xooTD28pU",
        "colab": {
          "base_uri": "https://localhost:8080/"
        },
        "outputId": "1a368b6e-7c1e-4108-94e7-8ef6a7d97a87"
      },
      "outputs": [
        {
          "output_type": "stream",
          "name": "stdout",
          "text": [
            "[0. 0. 0. 0. 0. 0. 0. 0. 0. 0.]\n",
            "Update sixth value to 10\n",
            "[ 0.  0.  0.  0.  0.  0. 10.  0.  0.  0.]\n"
          ]
        }
      ],
      "source": [
        "import numpy as np\n",
        "x = np.zeros(10)\n",
        "print(x)\n",
        "print(\"Update sixth value to 10\")\n",
        "x[6] = 10\n",
        "print(x)\n"
      ]
    },
    {
      "cell_type": "markdown",
      "metadata": {
        "id": "hDHeNwBe28pW"
      },
      "source": [
        "#### 4.  How to find the memory size of any array (★☆☆) \n",
        "(**hint**: size, itemsize)"
      ]
    },
    {
      "cell_type": "code",
      "execution_count": null,
      "metadata": {
        "id": "DZw269KK28pZ",
        "colab": {
          "base_uri": "https://localhost:8080/"
        },
        "outputId": "9a80ba94-b96d-49c3-fa0a-a936a6bf65a2"
      },
      "outputs": [
        {
          "output_type": "stream",
          "name": "stdout",
          "text": [
            "Size of the array:  3\n"
          ]
        }
      ],
      "source": [
        "x = np.array([100,20,34])\n",
        "print(\"Size of the array: \",\n",
        "      x.size)"
      ]
    },
    {
      "cell_type": "code",
      "source": [
        "print(\"Memory size of one array element in bytes: \",\n",
        "      x.itemsize)"
      ],
      "metadata": {
        "colab": {
          "base_uri": "https://localhost:8080/"
        },
        "id": "ItWd1u8H51zI",
        "outputId": "db5daafc-6164-4d8f-adf7-cbfdb9ed6dd2"
      },
      "execution_count": null,
      "outputs": [
        {
          "output_type": "stream",
          "name": "stdout",
          "text": [
            "Memory size of one array element in bytes:  8\n"
          ]
        }
      ]
    },
    {
      "cell_type": "code",
      "source": [
        "print(\"Memory size of numpy array in bytes:\",\n",
        "      x.size * x.itemsize)"
      ],
      "metadata": {
        "colab": {
          "base_uri": "https://localhost:8080/"
        },
        "id": "WDnTlkAw56kF",
        "outputId": "51a1a998-f4cc-465f-8d98-afdaf8938cf6"
      },
      "execution_count": null,
      "outputs": [
        {
          "output_type": "stream",
          "name": "stdout",
          "text": [
            "Memory size of numpy array in bytes: 24\n"
          ]
        }
      ]
    },
    {
      "cell_type": "markdown",
      "metadata": {
        "id": "tjumbv2628pe"
      },
      "source": [
        "#### 5.  How to get the documentation of the numpy add function from the command line? (★☆☆) \n",
        "(**hint**: np.info)"
      ]
    },
    {
      "cell_type": "code",
      "execution_count": null,
      "metadata": {
        "collapsed": true,
        "id": "OXL_YktT28ph",
        "colab": {
          "base_uri": "https://localhost:8080/"
        },
        "outputId": "7251842c-a791-4812-e330-6a98d10c47a7"
      },
      "outputs": [
        {
          "output_type": "stream",
          "name": "stdout",
          "text": [
            "None\n"
          ]
        }
      ],
      "source": [
        "print(np.info(np.add))"
      ]
    },
    {
      "cell_type": "markdown",
      "metadata": {
        "id": "3Y81wP7K28pj"
      },
      "source": [
        "#### 6.  Create a null vector of size 10 but the fifth value which is 1 (★☆☆) \n",
        "(**hint**: array\\[4\\])"
      ]
    },
    {
      "cell_type": "code",
      "execution_count": null,
      "metadata": {
        "id": "CnvR8JNJ28pl",
        "colab": {
          "base_uri": "https://localhost:8080/"
        },
        "outputId": "0322390a-a1ff-46cc-b58b-7097c30b0875"
      },
      "outputs": [
        {
          "output_type": "stream",
          "name": "stdout",
          "text": [
            "[ 0.  0.  0.  0. 19.  0.  0.  0.  0.  0.]\n"
          ]
        }
      ],
      "source": [
        "Z=np.zeros(10)\n",
        "Z[4]=19\n",
        "print(Z)"
      ]
    },
    {
      "cell_type": "markdown",
      "metadata": {
        "id": "Mb1RfIFW28po"
      },
      "source": [
        "#### 7.  Create a vector with values ranging from 10 to 49 (★☆☆) \n",
        "(**hint**: np.arange)"
      ]
    },
    {
      "cell_type": "code",
      "execution_count": null,
      "metadata": {
        "id": "_I9IB3vq28pq",
        "colab": {
          "base_uri": "https://localhost:8080/"
        },
        "outputId": "c23c8a67-6e69-4007-d375-174e80b3a01f"
      },
      "outputs": [
        {
          "output_type": "stream",
          "name": "stdout",
          "text": [
            "[10 11 12 13 14 15 16 17 18 19 20 21 22 23 24 25 26 27 28 29 30 31 32 33\n",
            " 34 35 36 37 38 39 40 41 42 43 44 45 46 47 48 49]\n"
          ]
        }
      ],
      "source": [
        "Z=np.arange(10,50)\n",
        "print(Z)"
      ]
    },
    {
      "cell_type": "markdown",
      "metadata": {
        "id": "fZiHjYhH28pr"
      },
      "source": [
        "#### 8.  Reverse a vector (first element becomes last) (★☆☆) \n",
        "(**hint**: array\\[::-1\\])"
      ]
    },
    {
      "cell_type": "code",
      "execution_count": null,
      "metadata": {
        "id": "ohnqnGVQ28ps"
      },
      "outputs": [],
      "source": [
        "Z=np.arange(50)\n",
        "Z=Z[::-1]"
      ]
    },
    {
      "cell_type": "markdown",
      "metadata": {
        "id": "ExNve9ok28pu"
      },
      "source": [
        "#### 9.  Create a 3x3 matrix with values ranging from 0 to 8 (★☆☆) \n",
        "(**hint**: reshape)"
      ]
    },
    {
      "cell_type": "code",
      "execution_count": null,
      "metadata": {
        "id": "GfepUPtR28py",
        "colab": {
          "base_uri": "https://localhost:8080/"
        },
        "outputId": "86d8b70a-575a-4dcd-d2d0-6ea4d8cbfaf7"
      },
      "outputs": [
        {
          "output_type": "stream",
          "name": "stdout",
          "text": [
            "[[0 1 2]\n",
            " [3 4 5]\n",
            " [6 7 8]]\n"
          ]
        }
      ],
      "source": [
        "Z = np.arange(9).reshape(3,3)\n",
        "print(Z)"
      ]
    },
    {
      "cell_type": "markdown",
      "metadata": {
        "id": "ysD_AmFl28p0"
      },
      "source": [
        "#### 10. Find indices of non-zero elements from \\[1,2,0,0,4,0\\] (★☆☆) \n",
        "(**hint**: np.nonzero)"
      ]
    },
    {
      "cell_type": "code",
      "execution_count": null,
      "metadata": {
        "id": "ZpdPX5cs28p3",
        "colab": {
          "base_uri": "https://localhost:8080/"
        },
        "outputId": "55e5e036-574b-45a2-a753-fad20695be87"
      },
      "outputs": [
        {
          "output_type": "stream",
          "name": "stdout",
          "text": [
            "(array([0, 1, 4]),)\n"
          ]
        }
      ],
      "source": [
        "nz=np.nonzero([1,2,0,0,4,0])\n",
        "print(nz)"
      ]
    },
    {
      "cell_type": "markdown",
      "metadata": {
        "id": "2SSOuG3G28p4"
      },
      "source": [
        "#### 11. Create a 3x3 identity matrix (★☆☆) \n",
        "(**hint**: np.eye)"
      ]
    },
    {
      "cell_type": "code",
      "execution_count": null,
      "metadata": {
        "id": "M7RExlpC28p6",
        "colab": {
          "base_uri": "https://localhost:8080/"
        },
        "outputId": "84e98f48-8dce-4204-94f3-417df32947fe"
      },
      "outputs": [
        {
          "output_type": "stream",
          "name": "stdout",
          "text": [
            "[[1. 0. 0.]\n",
            " [0. 1. 0.]\n",
            " [0. 0. 1.]]\n"
          ]
        }
      ],
      "source": [
        "Z=np.eye(3)\n",
        "print(Z)"
      ]
    },
    {
      "cell_type": "markdown",
      "metadata": {
        "id": "zGs--i5F28p8"
      },
      "source": [
        "#### 12. Create a 3x3x3 array with random values (★☆☆) \n",
        "(**hint**: np.random.random)"
      ]
    },
    {
      "cell_type": "code",
      "execution_count": null,
      "metadata": {
        "collapsed": true,
        "id": "A6-BL52328p-",
        "colab": {
          "base_uri": "https://localhost:8080/"
        },
        "outputId": "e692e9f8-bf89-4004-a874-2986256af2ff"
      },
      "outputs": [
        {
          "output_type": "stream",
          "name": "stdout",
          "text": [
            "[[[0.16372563 0.00606706 0.86663903]\n",
            "  [0.88886306 0.62837691 0.54263254]\n",
            "  [0.07727718 0.33411523 0.05647225]]\n",
            "\n",
            " [[0.82617959 0.12963855 0.50652269]\n",
            "  [0.14380451 0.18935887 0.32156429]\n",
            "  [0.38922704 0.28623991 0.67693386]]\n",
            "\n",
            " [[0.82800177 0.68543679 0.12296482]\n",
            "  [0.12731607 0.49261012 0.15310726]\n",
            "  [0.85365349 0.285831   0.99257467]]]\n"
          ]
        }
      ],
      "source": [
        "Z=np.random.random((3,3,3))\n",
        "print(Z)"
      ]
    },
    {
      "cell_type": "markdown",
      "metadata": {
        "id": "9swOhftL28p_"
      },
      "source": [
        "#### 13. Create a 10x10 array with random values and find the minimum and maximum values (★☆☆) \n",
        "(**hint**: min, max)"
      ]
    },
    {
      "cell_type": "code",
      "execution_count": null,
      "metadata": {
        "id": "tKc1PzTo28qA",
        "colab": {
          "base_uri": "https://localhost:8080/"
        },
        "outputId": "e1c86752-e43c-46bb-cb23-9b7b821b444a"
      },
      "outputs": [
        {
          "output_type": "stream",
          "name": "stdout",
          "text": [
            "0.01220165961277353 0.9988010182317508\n"
          ]
        }
      ],
      "source": [
        "Z=np.random.random((10,10))\n",
        "Zmin,Zmax=Z.min(),Z.max()\n",
        "print(Zmin,Zmax)"
      ]
    },
    {
      "cell_type": "markdown",
      "metadata": {
        "id": "QqayL0XU28qB"
      },
      "source": [
        "#### 14. Create a random vector of size 30 and find the mean value (★☆☆) \n",
        "(**hint**: mean)"
      ]
    },
    {
      "cell_type": "code",
      "execution_count": null,
      "metadata": {
        "id": "O_Jz-qoZ28qC",
        "colab": {
          "base_uri": "https://localhost:8080/"
        },
        "outputId": "c14d1679-64e0-4247-a9c2-680ecedea88e"
      },
      "outputs": [
        {
          "output_type": "stream",
          "name": "stdout",
          "text": [
            "0.4304278371812796\n"
          ]
        }
      ],
      "source": [
        "Z=np.random.random(30)\n",
        "m=Z.mean()\n",
        "print(m)"
      ]
    },
    {
      "cell_type": "markdown",
      "metadata": {
        "id": "pdKx2pSi28qD"
      },
      "source": [
        "#### 15. Create a 2d array with 1 on the border and 0 inside (★☆☆) \n",
        "(**hint**: array\\[1:-1, 1:-1\\])"
      ]
    },
    {
      "cell_type": "code",
      "execution_count": null,
      "metadata": {
        "id": "sisHUIeV28qF"
      },
      "outputs": [],
      "source": [
        "Z = np.ones((10,10))\n",
        "Z[1:-1, 1:-1] = 0"
      ]
    },
    {
      "cell_type": "markdown",
      "metadata": {
        "id": "JZLIo9Lo28qG"
      },
      "source": [
        "#### 16. How to add a border (filled with 0's) around an existing array? (★☆☆) \n",
        "(**hint**: np.pad)"
      ]
    },
    {
      "cell_type": "code",
      "execution_count": null,
      "metadata": {
        "id": "xuYUO2Jx28qJ",
        "colab": {
          "base_uri": "https://localhost:8080/"
        },
        "outputId": "629be2b3-18f2-4ee3-b5f3-c827e3111670"
      },
      "outputs": [
        {
          "output_type": "stream",
          "name": "stdout",
          "text": [
            "Original array:\n",
            "[[1. 1. 1.]\n",
            " [1. 1. 1.]\n",
            " [1. 1. 1.]]\n",
            "0 on the border and 1 inside in the array\n",
            "[[0. 0. 0. 0. 0.]\n",
            " [0. 1. 1. 1. 0.]\n",
            " [0. 1. 1. 1. 0.]\n",
            " [0. 1. 1. 1. 0.]\n",
            " [0. 0. 0. 0. 0.]]\n"
          ]
        }
      ],
      "source": [
        "import numpy as np\n",
        "x = np.ones((3,3))\n",
        "print(\"Original array:\")\n",
        "print(x)\n",
        "print(\"0 on the border and 1 inside in the array\")\n",
        "x = np.pad(x, pad_width=1, mode='constant', constant_values=0)\n",
        "print(x)"
      ]
    },
    {
      "cell_type": "markdown",
      "metadata": {
        "id": "Nmp_sjzm28qJ"
      },
      "source": [
        "#### 17. What is the result of the following expression? (★☆☆) \n",
        "(**hint**: NaN = not a number, inf = infinity)"
      ]
    },
    {
      "cell_type": "markdown",
      "metadata": {
        "id": "S6ESNTSf28qM"
      },
      "source": [
        "```python\n",
        "0 * np.nan\n",
        "np.nan == np.nan\n",
        "np.inf > np.nan\n",
        "np.nan - np.nan\n",
        "0.3 == 3 * 0.1\n",
        "```"
      ]
    },
    {
      "cell_type": "markdown",
      "metadata": {
        "id": "nOyCTFer28qO"
      },
      "source": [
        "#### 18. Create a 5x5 matrix with values 1,2,3,4 just below the diagonal (★☆☆) \n",
        "(**hint**: np.diag)"
      ]
    },
    {
      "cell_type": "code",
      "execution_count": null,
      "metadata": {
        "id": "NjGPrMe628qP",
        "colab": {
          "base_uri": "https://localhost:8080/"
        },
        "outputId": "be280f8d-bfdb-42fa-eb03-d1e0b5a0aa22"
      },
      "outputs": [
        {
          "output_type": "stream",
          "name": "stdout",
          "text": [
            "[[0 0 0 0 0]\n",
            " [1 0 0 0 0]\n",
            " [0 2 0 0 0]\n",
            " [0 0 3 0 0]\n",
            " [0 0 0 4 0]]\n"
          ]
        }
      ],
      "source": [
        "Z=np.diag(1+np.arange(4),k=-1)\n",
        "print(Z)"
      ]
    },
    {
      "cell_type": "markdown",
      "metadata": {
        "id": "lAFt_f4F28qQ"
      },
      "source": [
        "#### 19. Create a 8x8 matrix and fill it with a checkerboard pattern (★☆☆) \n",
        "(**hint**: array\\[::2\\])"
      ]
    },
    {
      "cell_type": "code",
      "execution_count": null,
      "metadata": {
        "id": "qn3t-Ips28qS",
        "colab": {
          "base_uri": "https://localhost:8080/"
        },
        "outputId": "27ad8e11-84f6-4903-c73a-39741d08a2c9"
      },
      "outputs": [
        {
          "output_type": "stream",
          "name": "stdout",
          "text": [
            "[[0 1 0 1 0 1 0 1]\n",
            " [1 0 1 0 1 0 1 0]\n",
            " [0 1 0 1 0 1 0 1]\n",
            " [1 0 1 0 1 0 1 0]\n",
            " [0 1 0 1 0 1 0 1]\n",
            " [1 0 1 0 1 0 1 0]\n",
            " [0 1 0 1 0 1 0 1]\n",
            " [1 0 1 0 1 0 1 0]]\n"
          ]
        }
      ],
      "source": [
        "Z = np.zeros((8,8),dtype=int)\n",
        "Z[1::2,::2] = 1\n",
        "Z[::2,1::2] = 1\n",
        "print(Z)\n"
      ]
    },
    {
      "cell_type": "markdown",
      "metadata": {
        "id": "NjKn_q4328qU"
      },
      "source": [
        "#### 20. Consider a (6,7,8) shape array, what is the index (x,y,z) of the 100th element? \n",
        "(**hint**: np.unravel_index)"
      ]
    },
    {
      "cell_type": "code",
      "execution_count": null,
      "metadata": {
        "id": "ExKqahmJ28qV",
        "colab": {
          "base_uri": "https://localhost:8080/"
        },
        "outputId": "8dc39776-b128-4edb-868d-4f0e6a3f370b"
      },
      "outputs": [
        {
          "output_type": "stream",
          "name": "stdout",
          "text": [
            "(1, 5, 4)\n"
          ]
        }
      ],
      "source": [
        "print(np.unravel_index(100,(6,7,8)))"
      ]
    },
    {
      "cell_type": "markdown",
      "metadata": {
        "id": "tAuz1QHv28qW"
      },
      "source": [
        "#### 21. Create a checkerboard 8x8 matrix using the tile function (★☆☆) \n",
        "(**hint**: np.tile)"
      ]
    },
    {
      "cell_type": "code",
      "execution_count": null,
      "metadata": {
        "id": "HHQk9ySe28qY",
        "colab": {
          "base_uri": "https://localhost:8080/"
        },
        "outputId": "1a85e6b6-deec-4fad-e6bb-e7a8fd1905bd"
      },
      "outputs": [
        {
          "output_type": "stream",
          "name": "stdout",
          "text": [
            "[[0 1 0 1 0 1 0 1]\n",
            " [1 0 1 0 1 0 1 0]\n",
            " [0 1 0 1 0 1 0 1]\n",
            " [1 0 1 0 1 0 1 0]\n",
            " [0 1 0 1 0 1 0 1]\n",
            " [1 0 1 0 1 0 1 0]\n",
            " [0 1 0 1 0 1 0 1]\n",
            " [1 0 1 0 1 0 1 0]]\n"
          ]
        }
      ],
      "source": [
        "Z = np.tile(np.array([[0,1],[1,0]]),(4,4))\n",
        "print(Z)"
      ]
    },
    {
      "cell_type": "markdown",
      "metadata": {
        "id": "C3SEor-U28qY"
      },
      "source": [
        "#### 22. Normalize a 5x5 random matrix (★☆☆) \n",
        "(**hint**: (x - min) / (max - min))"
      ]
    },
    {
      "cell_type": "code",
      "execution_count": null,
      "metadata": {
        "id": "y5e7UPRY28qd",
        "colab": {
          "base_uri": "https://localhost:8080/"
        },
        "outputId": "738ce96c-6e20-4958-eebd-b0532c810b0d"
      },
      "outputs": [
        {
          "output_type": "stream",
          "name": "stdout",
          "text": [
            "[[0.77283947 0.7564473  0.8501359  0.76437274 0.3624286 ]\n",
            " [0.37077789 0.44113179 0.         0.10750081 0.57958034]\n",
            " [0.12213423 0.63805365 0.81500372 0.75068666 0.91040187]\n",
            " [0.01096526 0.10823293 1.         0.56641186 0.44636103]\n",
            " [0.08305043 0.19108495 0.30380077 0.56680929 0.01000644]]\n"
          ]
        }
      ],
      "source": [
        "Z=np.random.random((5,5))\n",
        "Zmax, Zmin = Z.max(),Z.min()\n",
        "Z = (Z - Zmin)/(Zmax - Zmin)\n",
        "print(Z)"
      ]
    },
    {
      "cell_type": "markdown",
      "metadata": {
        "id": "BSYdsw8s28qf"
      },
      "source": [
        "#### 23. Create a custom dtype that describes a color as four unsigned bytes (RGBA) (★☆☆) \n",
        "(**hint**: np.dtype)"
      ]
    },
    {
      "cell_type": "code",
      "execution_count": null,
      "metadata": {
        "collapsed": true,
        "id": "u7ncnwkN28qh",
        "colab": {
          "base_uri": "https://localhost:8080/"
        },
        "outputId": "8b0b2c72-9d3b-4ba1-ce41-2944bd37cfd0"
      },
      "outputs": [
        {
          "output_type": "stream",
          "name": "stderr",
          "text": [
            "/usr/local/lib/python3.7/dist-packages/ipykernel_launcher.py:4: FutureWarning: Passing (type, 1) or '1type' as a synonym of type is deprecated; in a future version of numpy, it will be understood as (type, (1,)) / '(1,)type'.\n",
            "  after removing the cwd from sys.path.\n"
          ]
        }
      ],
      "source": [
        "color = np.dtype([(\"r\",np.ubyte,1),\n",
        "                  (\"g\",np.ubyte,1),\n",
        "                  (\"b\",np.ubyte,1),\n",
        "                  (\"a\",np.ubyte,1)])"
      ]
    },
    {
      "cell_type": "markdown",
      "metadata": {
        "id": "H1yvpLmb28ql"
      },
      "source": [
        "#### 24. Multiply a 5x3 matrix by a 3x2 matrix (real matrix product) (★☆☆) \n",
        "(**hint**: np.dot | @)"
      ]
    },
    {
      "cell_type": "code",
      "execution_count": null,
      "metadata": {
        "id": "wSt4yjRF28qn",
        "colab": {
          "base_uri": "https://localhost:8080/"
        },
        "outputId": "c717ae1b-72aa-45ba-b4d1-f0da81ece8b7"
      },
      "outputs": [
        {
          "output_type": "stream",
          "name": "stdout",
          "text": [
            "[[3. 3.]\n",
            " [3. 3.]\n",
            " [3. 3.]\n",
            " [3. 3.]\n",
            " [3. 3.]]\n"
          ]
        }
      ],
      "source": [
        "Z=np.dot(np.ones((5,3)),np.ones((3,2)))\n",
        "print(Z)"
      ]
    },
    {
      "cell_type": "markdown",
      "metadata": {
        "id": "kxN9rFKd28qo"
      },
      "source": [
        "#### 25. Given a 1D array, negate all elements which are between 3 and 8, in place. (★☆☆) \n",
        "(**hint**: >, <=)"
      ]
    },
    {
      "cell_type": "code",
      "execution_count": null,
      "metadata": {
        "id": "GQ8cS1nk28qp"
      },
      "outputs": [],
      "source": [
        "Z = np.arange(11)\n",
        "Z[(3<Z)&(Z<=8)] *= -1"
      ]
    },
    {
      "cell_type": "markdown",
      "metadata": {
        "id": "hfpe4rN_28qr"
      },
      "source": [
        "#### 26. What is the output of the following script? (★☆☆) \n",
        "(**hint**: np.sum)"
      ]
    },
    {
      "cell_type": "markdown",
      "metadata": {
        "id": "U827f8CW28qt"
      },
      "source": [
        "```python\n",
        "# Author: Jake VanderPlas\n",
        "\n",
        "print(sum(range(5),-1))\n",
        "from numpy import *\n",
        "print(sum(range(5),-1))\n",
        "```"
      ]
    },
    {
      "cell_type": "code",
      "execution_count": null,
      "metadata": {
        "id": "HvOE2K-T28qu",
        "colab": {
          "base_uri": "https://localhost:8080/"
        },
        "outputId": "d12ceea9-67a3-4b10-d6b4-14ac4317ae4c"
      },
      "outputs": [
        {
          "output_type": "stream",
          "name": "stdout",
          "text": [
            "9\n",
            "10\n"
          ]
        }
      ],
      "source": [
        "print(sum(range(5),-1))\n",
        "from numpy import *\n",
        "print(sum(range(5),-1))"
      ]
    },
    {
      "cell_type": "markdown",
      "metadata": {
        "id": "SyWzg9rs28qv"
      },
      "source": [
        "#### 27. Consider an integer vector Z, which of these expressions are legal? (★☆☆)"
      ]
    },
    {
      "cell_type": "markdown",
      "source": [
        "Integers to negative integer powers are not allowed.\n",
        "\n"
      ],
      "metadata": {
        "id": "NYQGlJXlLR9r"
      }
    },
    {
      "cell_type": "markdown",
      "metadata": {
        "id": "91ILHepr28qx"
      },
      "source": [
        "```python\n",
        "Z**Z\n",
        "2 << Z >> 2\n",
        "Z <- Z\n",
        "1j*Z\n",
        "Z/1/1\n",
        "Z<Z>Z\n",
        "```"
      ]
    },
    {
      "cell_type": "markdown",
      "metadata": {
        "id": "htuz3lJe28qz"
      },
      "source": [
        "#### 28. What are the result of the following expressions?"
      ]
    },
    {
      "cell_type": "markdown",
      "metadata": {
        "id": "XbxKwk2K28q1"
      },
      "source": [
        "```python\n",
        "np.array(0) / np.array(0)\n",
        "np.array(0) // np.array(0)\n",
        "np.array([np.nan]).astype(int).astype(float)\n",
        "```"
      ]
    },
    {
      "cell_type": "code",
      "execution_count": null,
      "metadata": {
        "id": "fFQg4k_D28q3",
        "colab": {
          "base_uri": "https://localhost:8080/"
        },
        "outputId": "3c0064ed-0c92-4428-b81f-e4da31aa281a"
      },
      "outputs": [
        {
          "output_type": "stream",
          "name": "stderr",
          "text": [
            "/usr/local/lib/python3.7/dist-packages/ipykernel_launcher.py:1: RuntimeWarning: invalid value encountered in true_divide\n",
            "  \"\"\"Entry point for launching an IPython kernel.\n",
            "/usr/local/lib/python3.7/dist-packages/ipykernel_launcher.py:2: RuntimeWarning: divide by zero encountered in floor_divide\n",
            "  \n"
          ]
        },
        {
          "output_type": "execute_result",
          "data": {
            "text/plain": [
              "array([-9.22337204e+18])"
            ]
          },
          "metadata": {},
          "execution_count": 61
        }
      ],
      "source": [
        "np.array(0) / np.array(0)\n",
        "np.array(0) // np.array(0)\n",
        "np.array([np.nan]).astype(int).astype(float)\n",
        "\n"
      ]
    },
    {
      "cell_type": "markdown",
      "metadata": {
        "id": "ZS587vKm28q4"
      },
      "source": [
        "#### 29. How to round away from zero a float array ? (★☆☆) \n",
        "(**hint**: np.uniform, np.copysign, np.ceil, np.abs)"
      ]
    },
    {
      "cell_type": "code",
      "execution_count": null,
      "metadata": {
        "id": "Zza_L05i28q5",
        "colab": {
          "base_uri": "https://localhost:8080/"
        },
        "outputId": "fd6c864f-8b9f-4685-e829-b7b3d5257e23"
      },
      "outputs": [
        {
          "output_type": "stream",
          "name": "stdout",
          "text": [
            "[ -3.  -7.   3.  -6. -10.  -3.   0.   4.   7.   0.]\n"
          ]
        }
      ],
      "source": [
        "Z = np.random.uniform(-10,+10,10)\n",
        "print(np.trunc(Z + np.copysign(0.5,Z)))"
      ]
    },
    {
      "cell_type": "markdown",
      "metadata": {
        "id": "ezPVyYIa28q6"
      },
      "source": [
        "#### 30. How to find common values between two arrays? (★☆☆) \n",
        "(**hint**: np.intersect1d)"
      ]
    },
    {
      "cell_type": "code",
      "execution_count": null,
      "metadata": {
        "id": "LK066ZbZ28q7",
        "colab": {
          "base_uri": "https://localhost:8080/"
        },
        "outputId": "4ef8d1f8-8ed1-42ef-a3fa-d60ea19dbbaf"
      },
      "outputs": [
        {
          "output_type": "stream",
          "name": "stdout",
          "text": [
            "[1 3 4]\n"
          ]
        }
      ],
      "source": [
        "import numpy as np\n",
        "  \n",
        "ar1 = np.array([0, 1, 2, 3, 4])\n",
        "ar2 = [1, 3, 4]\n",
        "print(np.intersect1d(ar1,ar2))\n",
        "  "
      ]
    },
    {
      "cell_type": "markdown",
      "metadata": {
        "id": "BSa0RLmR28q9"
      },
      "source": [
        "#### 31. How to ignore all numpy warnings (not recommended)? (★☆☆) \n",
        "(**hint**: np.seterr, np.errstate)"
      ]
    },
    {
      "cell_type": "code",
      "execution_count": null,
      "metadata": {
        "id": "3udXvrfs28q-",
        "colab": {
          "base_uri": "https://localhost:8080/"
        },
        "outputId": "f998d0c6-d3b2-46c8-e3a0-e81533161270"
      },
      "outputs": [
        {
          "output_type": "stream",
          "name": "stderr",
          "text": [
            "/usr/local/lib/python3.7/dist-packages/numpy/lib/nanfunctions.py:1114: RuntimeWarning: All-NaN slice encountered\n",
            "  overwrite_input=overwrite_input)\n"
          ]
        },
        {
          "output_type": "execute_result",
          "data": {
            "text/plain": [
              "array([nan, nan, nan, nan, nan, nan, nan, nan, nan, nan])"
            ]
          },
          "metadata": {},
          "execution_count": 64
        }
      ],
      "source": [
        "data = np.random.random(1000).reshape(10, 10,10) * np.nan\n",
        "np.seterr(all=\"ignore\")\n",
        "np.nanmedian(data, axis=[1, 2])"
      ]
    },
    {
      "cell_type": "markdown",
      "metadata": {
        "id": "sBAyZ9w928rA"
      },
      "source": [
        "#### 32. Is the following expressions true? (★☆☆) \n",
        "(**hint**: imaginary number)"
      ]
    },
    {
      "cell_type": "markdown",
      "metadata": {
        "id": "kAhzpZJF28rC"
      },
      "source": [
        "```python\n",
        "np.sqrt(-1) == np.emath.sqrt(-1)\n",
        "```"
      ]
    },
    {
      "cell_type": "code",
      "execution_count": null,
      "metadata": {
        "id": "S0b6hWGb28rD",
        "colab": {
          "base_uri": "https://localhost:8080/"
        },
        "outputId": "284a3972-3175-4fef-e799-f7ac9b6c2c97"
      },
      "outputs": [
        {
          "output_type": "stream",
          "name": "stdout",
          "text": [
            "true\n"
          ]
        }
      ],
      "source": [
        "print(\"true\")"
      ]
    },
    {
      "cell_type": "markdown",
      "metadata": {
        "id": "-VoTB9oj28rE"
      },
      "source": [
        "#### 33. How to get the dates of yesterday, today and tomorrow? (★☆☆) \n",
        "(**hint**: np.datetime64, np.timedelta64)"
      ]
    },
    {
      "cell_type": "code",
      "execution_count": null,
      "metadata": {
        "collapsed": true,
        "id": "1u1y_2Ax28rG",
        "colab": {
          "base_uri": "https://localhost:8080/"
        },
        "outputId": "d5f037f7-faf7-4f7f-da1a-708cd2b5d6a3"
      },
      "outputs": [
        {
          "output_type": "stream",
          "name": "stdout",
          "text": [
            "Yestraday:  2022-02-11\n",
            "Today:  2022-02-12\n",
            "Tomorrow:  2022-02-13\n"
          ]
        }
      ],
      "source": [
        "import numpy as np\n",
        "yesterday = np.datetime64('today', 'D') - np.timedelta64(1, 'D')\n",
        "print(\"Yestraday: \",yesterday)\n",
        "today     = np.datetime64('today', 'D')\n",
        "print(\"Today: \",today)\n",
        "tomorrow  = np.datetime64('today', 'D') + np.timedelta64(1, 'D')\n",
        "print(\"Tomorrow: \",tomorrow)\n"
      ]
    },
    {
      "cell_type": "markdown",
      "metadata": {
        "id": "PZyWqg1s28rH"
      },
      "source": [
        "#### 34. How to get all the dates corresponding to the month of July 2016? (★★☆) \n",
        "(**hint**: np.arange(dtype=datetime64\\['D'\\]))"
      ]
    },
    {
      "cell_type": "code",
      "execution_count": null,
      "metadata": {
        "id": "Qaw0zJLW28rJ",
        "colab": {
          "base_uri": "https://localhost:8080/"
        },
        "outputId": "3442a6b0-d623-4beb-a96a-45811524bef5"
      },
      "outputs": [
        {
          "output_type": "stream",
          "name": "stdout",
          "text": [
            "July, 2016\n",
            "['2016-06-01' '2016-06-02' '2016-06-03' '2016-06-04' '2016-06-05'\n",
            " '2016-06-06' '2016-06-07' '2016-06-08' '2016-06-09' '2016-06-10'\n",
            " '2016-06-11' '2016-06-12' '2016-06-13' '2016-06-14' '2016-06-15'\n",
            " '2016-06-16' '2016-06-17' '2016-06-18' '2016-06-19' '2016-06-20'\n",
            " '2016-06-21' '2016-06-22' '2016-06-23' '2016-06-24' '2016-06-25'\n",
            " '2016-06-26' '2016-06-27' '2016-06-28' '2016-06-29' '2016-06-30']\n"
          ]
        }
      ],
      "source": [
        "import numpy as np\n",
        "print(\"July, 2016\")\n",
        "print(np.arange('2016-06', '2016-07', dtype='datetime64[D]'))\n"
      ]
    },
    {
      "cell_type": "markdown",
      "metadata": {
        "id": "Fh3KSH0o28rK"
      },
      "source": [
        "#### 35. How to compute ((A+B)\\*(-A/2)) in place (without copy)? (★★☆) \n",
        "(**hint**: np.add(out=), np.negative(out=), np.multiply(out=), np.divide(out=))"
      ]
    },
    {
      "cell_type": "code",
      "execution_count": null,
      "metadata": {
        "id": "WKSAoApU28rM",
        "colab": {
          "base_uri": "https://localhost:8080/"
        },
        "outputId": "ce3c05d6-8205-4299-b1ad-6582dcdd8237"
      },
      "outputs": [
        {
          "output_type": "execute_result",
          "data": {
            "text/plain": [
              "array([-1.5, -1.5, -1.5])"
            ]
          },
          "metadata": {},
          "execution_count": 71
        }
      ],
      "source": [
        "A = np.ones(3)*1\n",
        "B = np.ones(3)*2\n",
        "C = np.ones(3)*3\n",
        "np.add(A,B,out=B)\n",
        "np.divide(A,2,out=A)\n",
        "np.negative(A,out=A)\n",
        "np.multiply(A,B,out=A)"
      ]
    },
    {
      "cell_type": "markdown",
      "metadata": {
        "id": "BLaQb0IB28rN"
      },
      "source": [
        "#### 36. Extract the integer part of a random array using 5 different methods (★★☆) \n",
        "(**hint**: %, np.floor, np.ceil, astype, np.trunc)"
      ]
    },
    {
      "cell_type": "code",
      "execution_count": null,
      "metadata": {
        "id": "dr40GVGb28rO",
        "colab": {
          "base_uri": "https://localhost:8080/"
        },
        "outputId": "72ae9570-dd89-41b8-ef5b-f01f7db20544"
      },
      "outputs": [
        {
          "output_type": "stream",
          "name": "stdout",
          "text": [
            "[1. 2. 0. 4. 8. 5. 4. 5. 8. 4.]\n",
            "[1. 2. 0. 4. 8. 5. 4. 5. 8. 4.]\n",
            "[1. 2. 0. 4. 8. 5. 4. 5. 8. 4.]\n",
            "[1 2 0 4 8 5 4 5 8 4]\n",
            "[1. 2. 0. 4. 8. 5. 4. 5. 8. 4.]\n"
          ]
        }
      ],
      "source": [
        "Z = np.random.uniform(0,10,10)\n",
        "\n",
        "print (Z - Z%1)\n",
        "print (np.floor(Z))\n",
        "print (np.ceil(Z)-1)\n",
        "print (Z.astype(int))\n",
        "print (np.trunc(Z))"
      ]
    },
    {
      "cell_type": "markdown",
      "metadata": {
        "id": "OhR7UnIp28rP"
      },
      "source": [
        "#### 37. Create a 5x5 matrix with row values ranging from 0 to 4 (★★☆) \n",
        "(**hint**: np.arange)"
      ]
    },
    {
      "cell_type": "code",
      "source": [
        "Z = np.zeros((5,5))\n",
        "Z += np.arange(5)\n",
        "print(Z)"
      ],
      "metadata": {
        "colab": {
          "base_uri": "https://localhost:8080/"
        },
        "id": "eJhmcLjMDM_G",
        "outputId": "28e88a3d-eb22-4500-8cf4-949d0f87ccd4"
      },
      "execution_count": null,
      "outputs": [
        {
          "output_type": "stream",
          "name": "stdout",
          "text": [
            "[[0. 1. 2. 3. 4.]\n",
            " [0. 1. 2. 3. 4.]\n",
            " [0. 1. 2. 3. 4.]\n",
            " [0. 1. 2. 3. 4.]\n",
            " [0. 1. 2. 3. 4.]]\n"
          ]
        }
      ]
    },
    {
      "cell_type": "markdown",
      "metadata": {
        "id": "-sQ7CV_528rS"
      },
      "source": [
        "#### 38. Consider a generator function that generates 10 integers and use it to build an array (★☆☆) \n",
        "(**hint**: np.fromiter)"
      ]
    },
    {
      "cell_type": "code",
      "execution_count": null,
      "metadata": {
        "id": "V0Sek_3T28rT",
        "colab": {
          "base_uri": "https://localhost:8080/"
        },
        "outputId": "49c00ec3-da3d-4fa7-9ab2-ab772ccd704f"
      },
      "outputs": [
        {
          "output_type": "stream",
          "name": "stdout",
          "text": [
            "[0. 1. 2. 3. 4. 5. 6. 7. 8. 9.]\n"
          ]
        }
      ],
      "source": [
        "def generate():\n",
        "    for x in range(10):\n",
        "        yield x\n",
        "Z = np.fromiter(generate(),dtype=float,count=-1)\n",
        "print(Z)\n",
        "\n"
      ]
    },
    {
      "cell_type": "markdown",
      "metadata": {
        "id": "8tGbt76x28rV"
      },
      "source": [
        "#### 39. Create a vector of size 10 with values ranging from 0 to 1, both excluded (★★☆) \n",
        "(**hint**: np.linspace)"
      ]
    },
    {
      "cell_type": "code",
      "execution_count": null,
      "metadata": {
        "id": "dT4vnutJ28rW",
        "colab": {
          "base_uri": "https://localhost:8080/"
        },
        "outputId": "e8693e2d-e58a-4a82-f665-71a84e92cdc0"
      },
      "outputs": [
        {
          "output_type": "stream",
          "name": "stdout",
          "text": [
            "[0.09090909 0.18181818 0.27272727 0.36363636 0.45454545 0.54545455\n",
            " 0.63636364 0.72727273 0.81818182 0.90909091]\n"
          ]
        }
      ],
      "source": [
        "Z = np.linspace(0,1,11,endpoint=False)[1:]\n",
        "print(Z)"
      ]
    },
    {
      "cell_type": "markdown",
      "metadata": {
        "id": "afRE3y7g28rX"
      },
      "source": [
        "#### 40. Create a random vector of size 10 and sort it (★★☆) \n",
        "(**hint**: sort)"
      ]
    },
    {
      "cell_type": "code",
      "execution_count": null,
      "metadata": {
        "id": "CP4oVteo28rY",
        "colab": {
          "base_uri": "https://localhost:8080/"
        },
        "outputId": "0c5e7472-2441-4bb6-deb7-9a3c4fa0aec9"
      },
      "outputs": [
        {
          "output_type": "stream",
          "name": "stdout",
          "text": [
            "[0.01915334 0.0841982  0.11046542 0.24353366 0.48335354 0.53061801\n",
            " 0.74428239 0.80986535 0.8276042  0.94140153]\n"
          ]
        }
      ],
      "source": [
        "Z = np.random.random(10)\n",
        "Z.sort()\n",
        "print(Z)"
      ]
    },
    {
      "cell_type": "markdown",
      "metadata": {
        "id": "Vq0kiXY128rZ"
      },
      "source": [
        "#### 41. How to sum a small array faster than np.sum? (★★☆) \n",
        "(**hint**: np.add.reduce)"
      ]
    },
    {
      "cell_type": "code",
      "execution_count": null,
      "metadata": {
        "id": "st-LAPAB28ra",
        "colab": {
          "base_uri": "https://localhost:8080/"
        },
        "outputId": "e6cf392d-1e85-475b-852c-83a09a4023c9"
      },
      "outputs": [
        {
          "output_type": "execute_result",
          "data": {
            "text/plain": [
              "45"
            ]
          },
          "metadata": {},
          "execution_count": 77
        }
      ],
      "source": [
        "Z = np.arange(10)\n",
        "np.add.reduce(Z)"
      ]
    },
    {
      "cell_type": "markdown",
      "metadata": {
        "id": "cpkHuoS128rb"
      },
      "source": [
        "#### 42. Consider two random array A and B, check if they are equal (★★☆) \n",
        "(**hint**: np.allclose, np.array\\_equal)"
      ]
    },
    {
      "cell_type": "code",
      "execution_count": null,
      "metadata": {
        "id": "gB11PmtN28rd"
      },
      "outputs": [],
      "source": [
        "A = np.random.randint(0,2,5)\n",
        "B = np.random.randint(0,2,5)"
      ]
    },
    {
      "cell_type": "code",
      "source": [
        "equal = np.allclose(A,B)\n",
        "print(equal)"
      ],
      "metadata": {
        "colab": {
          "base_uri": "https://localhost:8080/"
        },
        "id": "k-WfWyowPab4",
        "outputId": "88d9684a-af8c-4c18-bddd-7a1c1acb7ca3"
      },
      "execution_count": null,
      "outputs": [
        {
          "output_type": "stream",
          "name": "stdout",
          "text": [
            "False\n"
          ]
        }
      ]
    },
    {
      "cell_type": "code",
      "source": [
        "equal = np.array_equal(A,B)\n",
        "print(equal)"
      ],
      "metadata": {
        "colab": {
          "base_uri": "https://localhost:8080/"
        },
        "id": "VZjPU5utPdYq",
        "outputId": "ecffd2bb-a7f9-4f79-cd89-df20964207c1"
      },
      "execution_count": null,
      "outputs": [
        {
          "output_type": "stream",
          "name": "stdout",
          "text": [
            "False\n"
          ]
        }
      ]
    },
    {
      "cell_type": "markdown",
      "metadata": {
        "id": "5uHReXUQ28rf"
      },
      "source": [
        "#### 43. Make an array immutable (read-only) (★★☆) \n",
        "(**hint**: flags.writeable)"
      ]
    },
    {
      "cell_type": "markdown",
      "source": [
        "Z = np.zeros(10)\n",
        "Z.flags.writeable = False\n",
        "Z[0] = 1"
      ],
      "metadata": {
        "id": "E0MlRzqQPuc5"
      }
    },
    {
      "cell_type": "markdown",
      "metadata": {
        "id": "jFf7pJOq28ri"
      },
      "source": [
        "#### 44. Consider a random 10x2 matrix representing cartesian coordinates, convert them to polar coordinates (★★☆) \n",
        "(**hint**: np.sqrt, np.arctan2)"
      ]
    },
    {
      "cell_type": "code",
      "execution_count": null,
      "metadata": {
        "id": "Y78e0miu28rk",
        "colab": {
          "base_uri": "https://localhost:8080/"
        },
        "outputId": "06f0f287-8265-4ba4-f3f8-79335484f112"
      },
      "outputs": [
        {
          "output_type": "stream",
          "name": "stdout",
          "text": [
            "[0.3008395  0.65370768 0.53883688 0.47185765 0.93229114 0.37750163\n",
            " 0.83398346 0.52051277 0.82276904 0.71532453]\n",
            "[0.94939503 1.37895652 1.22084194 0.81402456 1.10228461 0.17510743\n",
            " 0.9367449  0.7727682  0.30845608 1.21895495]\n"
          ]
        }
      ],
      "source": [
        "Z = np.random.random((10,2))\n",
        "X,Y = Z[:,0], Z[:,1]\n",
        "R = np.sqrt(X**2+Y**2)\n",
        "T = np.arctan2(Y,X)\n",
        "print(R)\n",
        "print(T)\n"
      ]
    },
    {
      "cell_type": "markdown",
      "metadata": {
        "id": "OEvUVJ2r28rm"
      },
      "source": [
        "#### 45. Create random vector of size 10 and replace the maximum value by 0 (★★☆) \n",
        "(**hint**: argmax)"
      ]
    },
    {
      "cell_type": "code",
      "execution_count": null,
      "metadata": {
        "id": "97yfpG9o28rn",
        "colab": {
          "base_uri": "https://localhost:8080/"
        },
        "outputId": "93b94537-e76b-4d5b-f666-6a6ff825fbf1"
      },
      "outputs": [
        {
          "output_type": "stream",
          "name": "stdout",
          "text": [
            "[0.38456502 0.32307301 0.9037086  0.78378293 0.         0.33071871\n",
            " 0.68101011 0.26539277 0.76982562 0.6655102 ]\n"
          ]
        }
      ],
      "source": [
        "Z = np.random.random(10)\n",
        "Z[Z.argmax()] = 0\n",
        "print(Z)"
      ]
    },
    {
      "cell_type": "markdown",
      "metadata": {
        "id": "6kzXDatS28ro"
      },
      "source": [
        "#### 46. Create a structured array with `x` and `y` coordinates covering the \\[0,1\\]x\\[0,1\\] area (★★☆) \n",
        "(**hint**: np.meshgrid)"
      ]
    },
    {
      "cell_type": "code",
      "execution_count": null,
      "metadata": {
        "id": "tJNG0pgu28rr",
        "colab": {
          "base_uri": "https://localhost:8080/"
        },
        "outputId": "e065952a-d58a-4c6a-fd21-fcd366afb260"
      },
      "outputs": [
        {
          "output_type": "stream",
          "name": "stdout",
          "text": [
            "[[(0.  , 0.  ) (0.25, 0.  ) (0.5 , 0.  ) (0.75, 0.  ) (1.  , 0.  )]\n",
            " [(0.  , 0.25) (0.25, 0.25) (0.5 , 0.25) (0.75, 0.25) (1.  , 0.25)]\n",
            " [(0.  , 0.5 ) (0.25, 0.5 ) (0.5 , 0.5 ) (0.75, 0.5 ) (1.  , 0.5 )]\n",
            " [(0.  , 0.75) (0.25, 0.75) (0.5 , 0.75) (0.75, 0.75) (1.  , 0.75)]\n",
            " [(0.  , 1.  ) (0.25, 1.  ) (0.5 , 1.  ) (0.75, 1.  ) (1.  , 1.  )]]\n"
          ]
        }
      ],
      "source": [
        "Z = np.zeros((5,5), [('x',float),('y',float)])\n",
        "Z['x'], Z['y'] = np.meshgrid(np.linspace(0,1,5),\n",
        "                             np.linspace(0,1,5))\n",
        "print(Z)"
      ]
    },
    {
      "cell_type": "markdown",
      "metadata": {
        "id": "oNZY07n328rw"
      },
      "source": [
        "####  47. Given two arrays, X and Y, construct the Cauchy matrix C (Cij =1/(xi - yj)) \n",
        "(**hint**: np.subtract.outer)"
      ]
    },
    {
      "cell_type": "code",
      "execution_count": null,
      "metadata": {
        "id": "onZHbwAf28rz",
        "colab": {
          "base_uri": "https://localhost:8080/"
        },
        "outputId": "4294fb15-6427-4519-f866-a660d1d093bd"
      },
      "outputs": [
        {
          "output_type": "stream",
          "name": "stdout",
          "text": [
            "3638.1636371179666\n"
          ]
        }
      ],
      "source": [
        "X = np.arange(8)\n",
        "Y = X + 0.5\n",
        "C = 1.0 / np.subtract.outer(X, Y)\n",
        "print(np.linalg.det(C))"
      ]
    },
    {
      "cell_type": "markdown",
      "metadata": {
        "id": "-gV-cTm628r1"
      },
      "source": [
        "#### 48. Print the minimum and maximum representable value for each numpy scalar type (★★☆) \n",
        "(**hint**: np.iinfo, np.finfo, eps)"
      ]
    },
    {
      "cell_type": "code",
      "execution_count": null,
      "metadata": {
        "id": "3bSWfZ4-28r3",
        "colab": {
          "base_uri": "https://localhost:8080/"
        },
        "outputId": "19d541a6-464a-41c8-b015-30fbd155c1ff"
      },
      "outputs": [
        {
          "output_type": "stream",
          "name": "stdout",
          "text": [
            "-128\n",
            "127\n",
            "-2147483648\n",
            "2147483647\n",
            "-9223372036854775808\n",
            "9223372036854775807\n",
            "-3.4028235e+38\n",
            "3.4028235e+38\n",
            "1.1920929e-07\n",
            "-1.7976931348623157e+308\n",
            "1.7976931348623157e+308\n",
            "2.220446049250313e-16\n"
          ]
        }
      ],
      "source": [
        "for dtype in [np.int8, np.int32, np.int64]:\n",
        "   print(np.iinfo(dtype).min)\n",
        "   print(np.iinfo(dtype).max)\n",
        "for dtype in [np.float32, np.float64]:\n",
        "   print(np.finfo(dtype).min)\n",
        "   print(np.finfo(dtype).max)\n",
        "   print(np.finfo(dtype).eps)"
      ]
    },
    {
      "cell_type": "markdown",
      "metadata": {
        "id": "qBOuQ6EQ28r3"
      },
      "source": [
        "#### 49. How to print all the values of an array? (★★☆) \n",
        "(**hint**: np.set\\_printoptions)"
      ]
    },
    {
      "cell_type": "code",
      "execution_count": null,
      "metadata": {
        "id": "yrnvz4WQ28r5",
        "colab": {
          "base_uri": "https://localhost:8080/",
          "height": 454
        },
        "outputId": "431bc566-0533-4638-bd42-fbbc95d305a4"
      },
      "outputs": [
        {
          "output_type": "error",
          "ename": "ValueError",
          "evalue": "ignored",
          "traceback": [
            "\u001b[0;31m---------------------------------------------------------------------------\u001b[0m",
            "\u001b[0;31mValueError\u001b[0m                                Traceback (most recent call last)",
            "\u001b[0;32m<ipython-input-90-8e6bd600a6bc>\u001b[0m in \u001b[0;36m<module>\u001b[0;34m()\u001b[0m\n\u001b[0;32m----> 1\u001b[0;31m \u001b[0mnp\u001b[0m\u001b[0;34m.\u001b[0m\u001b[0mset_printoptions\u001b[0m\u001b[0;34m(\u001b[0m\u001b[0mthreshold\u001b[0m\u001b[0;34m=\u001b[0m\u001b[0mnp\u001b[0m\u001b[0;34m.\u001b[0m\u001b[0mnan\u001b[0m\u001b[0;34m)\u001b[0m\u001b[0;34m\u001b[0m\u001b[0;34m\u001b[0m\u001b[0m\n\u001b[0m\u001b[1;32m      2\u001b[0m \u001b[0mZ\u001b[0m \u001b[0;34m=\u001b[0m \u001b[0mnp\u001b[0m\u001b[0;34m.\u001b[0m\u001b[0mzeros\u001b[0m\u001b[0;34m(\u001b[0m\u001b[0;34m(\u001b[0m\u001b[0;36m16\u001b[0m\u001b[0;34m,\u001b[0m\u001b[0;36m16\u001b[0m\u001b[0;34m)\u001b[0m\u001b[0;34m)\u001b[0m\u001b[0;34m\u001b[0m\u001b[0;34m\u001b[0m\u001b[0m\n\u001b[1;32m      3\u001b[0m \u001b[0mprint\u001b[0m\u001b[0;34m(\u001b[0m\u001b[0mZ\u001b[0m\u001b[0;34m)\u001b[0m\u001b[0;34m\u001b[0m\u001b[0;34m\u001b[0m\u001b[0m\n",
            "\u001b[0;32m/usr/local/lib/python3.7/dist-packages/numpy/core/arrayprint.py\u001b[0m in \u001b[0;36mset_printoptions\u001b[0;34m(precision, threshold, edgeitems, linewidth, suppress, nanstr, infstr, formatter, sign, floatmode, legacy)\u001b[0m\n\u001b[1;32m    243\u001b[0m     opt = _make_options_dict(precision, threshold, edgeitems, linewidth,\n\u001b[1;32m    244\u001b[0m                              \u001b[0msuppress\u001b[0m\u001b[0;34m,\u001b[0m \u001b[0mnanstr\u001b[0m\u001b[0;34m,\u001b[0m \u001b[0minfstr\u001b[0m\u001b[0;34m,\u001b[0m \u001b[0msign\u001b[0m\u001b[0;34m,\u001b[0m \u001b[0mformatter\u001b[0m\u001b[0;34m,\u001b[0m\u001b[0;34m\u001b[0m\u001b[0;34m\u001b[0m\u001b[0m\n\u001b[0;32m--> 245\u001b[0;31m                              floatmode, legacy)\n\u001b[0m\u001b[1;32m    246\u001b[0m     \u001b[0;31m# formatter is always reset\u001b[0m\u001b[0;34m\u001b[0m\u001b[0;34m\u001b[0m\u001b[0;34m\u001b[0m\u001b[0m\n\u001b[1;32m    247\u001b[0m     \u001b[0mopt\u001b[0m\u001b[0;34m[\u001b[0m\u001b[0;34m'formatter'\u001b[0m\u001b[0;34m]\u001b[0m \u001b[0;34m=\u001b[0m \u001b[0mformatter\u001b[0m\u001b[0;34m\u001b[0m\u001b[0;34m\u001b[0m\u001b[0m\n",
            "\u001b[0;32m/usr/local/lib/python3.7/dist-packages/numpy/core/arrayprint.py\u001b[0m in \u001b[0;36m_make_options_dict\u001b[0;34m(precision, threshold, edgeitems, linewidth, suppress, nanstr, infstr, sign, formatter, floatmode, legacy)\u001b[0m\n\u001b[1;32m     84\u001b[0m             \u001b[0;32mraise\u001b[0m \u001b[0mTypeError\u001b[0m\u001b[0;34m(\u001b[0m\u001b[0;34m\"threshold must be numeric\"\u001b[0m\u001b[0;34m)\u001b[0m\u001b[0;34m\u001b[0m\u001b[0;34m\u001b[0m\u001b[0m\n\u001b[1;32m     85\u001b[0m         \u001b[0;32mif\u001b[0m \u001b[0mnp\u001b[0m\u001b[0;34m.\u001b[0m\u001b[0misnan\u001b[0m\u001b[0;34m(\u001b[0m\u001b[0mthreshold\u001b[0m\u001b[0;34m)\u001b[0m\u001b[0;34m:\u001b[0m\u001b[0;34m\u001b[0m\u001b[0;34m\u001b[0m\u001b[0m\n\u001b[0;32m---> 86\u001b[0;31m             raise ValueError(\"threshold must be non-NAN, try \"\n\u001b[0m\u001b[1;32m     87\u001b[0m                              \"sys.maxsize for untruncated representation\")\n\u001b[1;32m     88\u001b[0m     \u001b[0;32mreturn\u001b[0m \u001b[0moptions\u001b[0m\u001b[0;34m\u001b[0m\u001b[0;34m\u001b[0m\u001b[0m\n",
            "\u001b[0;31mValueError\u001b[0m: threshold must be non-NAN, try sys.maxsize for untruncated representation"
          ]
        }
      ],
      "source": [
        "np.set_printoptions(threshold=np.nan)\n",
        "Z = np.zeros((16,16))\n",
        "print(Z)"
      ]
    },
    {
      "cell_type": "markdown",
      "metadata": {
        "id": "G5rkdolY28r6"
      },
      "source": [
        "#### 50. How to find the closest value (to a given scalar) in a vector? (★★☆) \n",
        "(**hint**: argmin)"
      ]
    },
    {
      "cell_type": "code",
      "execution_count": null,
      "metadata": {
        "id": "r8JCaegI28r7",
        "colab": {
          "base_uri": "https://localhost:8080/"
        },
        "outputId": "ec333e2e-f0b1-41e4-f204-d4308b71a255"
      },
      "outputs": [
        {
          "output_type": "stream",
          "name": "stdout",
          "text": [
            "48\n"
          ]
        }
      ],
      "source": [
        "Z = np.arange(100)\n",
        "v = np.random.uniform(0,100)\n",
        "index = (np.abs(Z-v)).argmin()\n",
        "print(Z[index])"
      ]
    },
    {
      "cell_type": "markdown",
      "metadata": {
        "id": "3zKuojiW28r8"
      },
      "source": [
        "#### 51. Create a structured array representing a position (x,y) and a color (r,g,b) (★★☆) \n",
        "(**hint**: dtype)"
      ]
    },
    {
      "cell_type": "code",
      "execution_count": null,
      "metadata": {
        "id": "Hppp33ps28r9",
        "colab": {
          "base_uri": "https://localhost:8080/"
        },
        "outputId": "be5637db-ed30-41de-8964-d9cc2ce9d365"
      },
      "outputs": [
        {
          "output_type": "stream",
          "name": "stdout",
          "text": [
            "[((0., 0.), (0., 0., 0.)) ((0., 0.), (0., 0., 0.))\n",
            " ((0., 0.), (0., 0., 0.)) ((0., 0.), (0., 0., 0.))\n",
            " ((0., 0.), (0., 0., 0.)) ((0., 0.), (0., 0., 0.))\n",
            " ((0., 0.), (0., 0., 0.)) ((0., 0.), (0., 0., 0.))\n",
            " ((0., 0.), (0., 0., 0.)) ((0., 0.), (0., 0., 0.))]\n"
          ]
        },
        {
          "output_type": "stream",
          "name": "stderr",
          "text": [
            "/usr/local/lib/python3.7/dist-packages/ipykernel_launcher.py:5: FutureWarning: Passing (type, 1) or '1type' as a synonym of type is deprecated; in a future version of numpy, it will be understood as (type, (1,)) / '(1,)type'.\n",
            "  \"\"\"\n"
          ]
        }
      ],
      "source": [
        "Z = np.zeros(10, [ ('position', [ ('x', float, 1),\n",
        "                                  ('y', float, 1)]),\n",
        "                   ('color',    [ ('r', float, 1),\n",
        "                                  ('g', float, 1),\n",
        "                                  ('b', float, 1)])])\n",
        "print(Z)"
      ]
    },
    {
      "cell_type": "markdown",
      "metadata": {
        "id": "YCB30RhQ28r-"
      },
      "source": [
        "#### 52. Consider a random vector with shape (100,2) representing coordinates, find point by point distances (★★☆) \n",
        "(**hint**: np.atleast\\_2d, T, np.sqrt)"
      ]
    },
    {
      "cell_type": "code",
      "execution_count": null,
      "metadata": {
        "id": "M9wkW9OM28r_",
        "colab": {
          "base_uri": "https://localhost:8080/"
        },
        "outputId": "d71aeed0-54a6-42df-d880-479ead1cfbff"
      },
      "outputs": [
        {
          "output_type": "stream",
          "name": "stdout",
          "text": [
            "[[0.         0.34257294 0.49224224 0.366602   0.80965124 0.58393549\n",
            "  0.56806933 0.74899085 0.87806594 0.76424832]\n",
            " [0.34257294 0.         0.19076353 0.05425393 0.46788427 0.30017601\n",
            "  0.22901938 0.40995067 0.54313732 0.47260147]\n",
            " [0.49224224 0.19076353 0.         0.14116897 0.35073132 0.10978719\n",
            "  0.21353758 0.27969258 0.48654677 0.50536946]\n",
            " [0.366602   0.05425393 0.14116897 0.         0.44547491 0.24921122\n",
            "  0.22666803 0.38274035 0.53939464 0.49292773]\n",
            " [0.80965124 0.46788427 0.35073132 0.44547491 0.         0.32884757\n",
            "  0.26025761 0.07378124 0.19569621 0.37085726]\n",
            " [0.58393549 0.30017601 0.10978719 0.24921122 0.32884757 0.\n",
            "  0.28121954 0.25533102 0.49723257 0.56335323]\n",
            " [0.56806933 0.22901938 0.21353758 0.22666803 0.26025761 0.28121954\n",
            "  0.         0.22172067 0.31448896 0.29184425]\n",
            " [0.74899085 0.40995067 0.27969258 0.38274035 0.07378124 0.25533102\n",
            "  0.22172067 0.         0.25486301 0.39385068]\n",
            " [0.87806594 0.54313732 0.48654677 0.53939464 0.19569621 0.49723257\n",
            "  0.31448896 0.25486301 0.         0.23696506]\n",
            " [0.76424832 0.47260147 0.50536946 0.49292773 0.37085726 0.56335323\n",
            "  0.29184425 0.39385068 0.23696506 0.        ]]\n"
          ]
        }
      ],
      "source": [
        "Z = np.random.random((10,2))\n",
        "X,Y = np.atleast_2d(Z[:,0], Z[:,1])\n",
        "D = np.sqrt( (X-X.T)**2 + (Y-Y.T)**2)\n",
        "print(D)"
      ]
    },
    {
      "cell_type": "code",
      "source": [
        "import scipy"
      ],
      "metadata": {
        "id": "q7bMsFANTy09"
      },
      "execution_count": null,
      "outputs": []
    },
    {
      "cell_type": "code",
      "source": [
        "import scipy.spatial"
      ],
      "metadata": {
        "id": "AUXBHtrBT24N"
      },
      "execution_count": null,
      "outputs": []
    },
    {
      "cell_type": "code",
      "source": [
        "Z = np.random.random((10,2))\n",
        "D = scipy.spatial.distance.cdist(Z,Z)\n",
        "print(D)"
      ],
      "metadata": {
        "colab": {
          "base_uri": "https://localhost:8080/"
        },
        "id": "BDDAOT6VT6SN",
        "outputId": "a8523335-e7dc-4e83-8056-29c2d14ce591"
      },
      "execution_count": null,
      "outputs": [
        {
          "output_type": "stream",
          "name": "stdout",
          "text": [
            "[[0.         0.65427906 0.17651758 0.82263597 0.17147816 0.91072774\n",
            "  0.47470116 0.33301561 0.6886283  0.7680486 ]\n",
            " [0.65427906 0.         0.79004748 0.9310976  0.67584116 0.83238271\n",
            "  0.93610504 0.84375242 0.92355848 0.47185488]\n",
            " [0.17651758 0.79004748 0.         0.7452648  0.13535608 0.87814394\n",
            "  0.32257006 0.18219374 0.58730533 0.81130754]\n",
            " [0.82263597 0.9310976  0.7452648  0.         0.6563389  0.24972298\n",
            "  0.50299171 0.58753742 0.18416462 0.54055977]\n",
            " [0.17147816 0.67584116 0.13535608 0.6563389  0.         0.76373854\n",
            "  0.32089429 0.18873266 0.51745328 0.67645605]\n",
            " [0.91072774 0.83238271 0.87814394 0.24972298 0.76373854 0.\n",
            "  0.70072211 0.75104922 0.41008998 0.37630663]\n",
            " [0.47470116 0.93610504 0.32257006 0.50299171 0.32089429 0.70072211\n",
            "  0.         0.14262547 0.32101554 0.77856063]\n",
            " [0.33301561 0.84375242 0.18219374 0.58753742 0.18873266 0.75104922\n",
            "  0.14262547 0.         0.41799457 0.75788477]\n",
            " [0.6886283  0.92355848 0.58730533 0.18416462 0.51745328 0.41008998\n",
            "  0.32101554 0.41799457 0.         0.61036755]\n",
            " [0.7680486  0.47185488 0.81130754 0.54055977 0.67645605 0.37630663\n",
            "  0.77856063 0.75788477 0.61036755 0.        ]]\n"
          ]
        }
      ]
    },
    {
      "cell_type": "markdown",
      "metadata": {
        "id": "yCv2dOKo28sB"
      },
      "source": [
        "#### 53. How to convert a float (32 bits) array into an integer (32 bits) in place? \n",
        "(**hint**: astype(copy=False))"
      ]
    },
    {
      "cell_type": "code",
      "execution_count": null,
      "metadata": {
        "id": "V7dKNDl428sC",
        "colab": {
          "base_uri": "https://localhost:8080/"
        },
        "outputId": "7842974f-eec6-46a1-bba9-2e0ddb0faf46"
      },
      "outputs": [
        {
          "output_type": "stream",
          "name": "stdout",
          "text": [
            "[0 1 2 3 4 5 6 7 8 9]\n"
          ]
        }
      ],
      "source": [
        "Z = np.arange(10, dtype=np.float32)\n",
        "Z = Z.astype(np.int32, copy=False)\n",
        "print(Z)"
      ]
    },
    {
      "cell_type": "markdown",
      "metadata": {
        "id": "ke5gNlQA28sD"
      },
      "source": [
        "#### 54. How to read the following file? (★★☆) \n",
        "(**hint**: np.genfromtxt)"
      ]
    },
    {
      "cell_type": "markdown",
      "metadata": {
        "id": "mFmOc2P028sF"
      },
      "source": [
        "```\n",
        "1, 2, 3, 4, 5\n",
        "6,  ,  , 7, 8\n",
        " ,  , 9,10,11\n",
        "```"
      ]
    },
    {
      "cell_type": "code",
      "execution_count": null,
      "metadata": {
        "id": "auEv3zZP28sG",
        "colab": {
          "base_uri": "https://localhost:8080/"
        },
        "outputId": "7c89a8c0-fb89-4317-95f9-056019cf3c90"
      },
      "outputs": [
        {
          "output_type": "stream",
          "name": "stdout",
          "text": [
            "[[ 1  2  3  4  5]\n",
            " [ 6 -1 -1  7  8]\n",
            " [-1 -1  9 10 11]]\n"
          ]
        }
      ],
      "source": [
        "from io import StringIO\n",
        "\n",
        "# Fake file \n",
        "s = StringIO(\"\"\"1, 2, 3, 4, 5\\n\n",
        "                6,  ,  , 7, 8\\n\n",
        "                 ,  , 9,10,11\\n\"\"\")\n",
        "Z = np.genfromtxt(s, delimiter=\",\", dtype=np.int)\n",
        "print(Z)"
      ]
    },
    {
      "cell_type": "markdown",
      "metadata": {
        "id": "kmU_ah5Z28sH"
      },
      "source": [
        "#### 55. What is the equivalent of enumerate for numpy arrays? (★★☆) \n",
        "(**hint**: np.ndenumerate, np.ndindex)"
      ]
    },
    {
      "cell_type": "code",
      "execution_count": null,
      "metadata": {
        "id": "2REic3ge28sI",
        "colab": {
          "base_uri": "https://localhost:8080/"
        },
        "outputId": "136e3cff-c516-463b-b7be-1143e93c76b8"
      },
      "outputs": [
        {
          "output_type": "stream",
          "name": "stdout",
          "text": [
            "(0, 0) 0\n",
            "(0, 1) 1\n",
            "(0, 2) 2\n",
            "(1, 0) 3\n",
            "(1, 1) 4\n",
            "(1, 2) 5\n",
            "(2, 0) 6\n",
            "(2, 1) 7\n",
            "(2, 2) 8\n",
            "(0, 0) 0\n",
            "(0, 1) 1\n",
            "(0, 2) 2\n",
            "(1, 0) 3\n",
            "(1, 1) 4\n",
            "(1, 2) 5\n",
            "(2, 0) 6\n",
            "(2, 1) 7\n",
            "(2, 2) 8\n"
          ]
        }
      ],
      "source": [
        "Z = np.arange(9).reshape(3,3)\n",
        "for index, value in np.ndenumerate(Z):\n",
        "    print(index, value)\n",
        "for index in np.ndindex(Z.shape):\n",
        "    print(index, Z[index])"
      ]
    },
    {
      "cell_type": "markdown",
      "metadata": {
        "id": "aBvdywGK28sK"
      },
      "source": [
        "#### 56. Generate a generic 2D Gaussian-like array (★★☆) \n",
        "(**hint**: np.meshgrid, np.exp)"
      ]
    },
    {
      "cell_type": "code",
      "execution_count": null,
      "metadata": {
        "id": "jab2W7B_28sM",
        "colab": {
          "base_uri": "https://localhost:8080/"
        },
        "outputId": "f3d0d061-0401-4a16-bd1c-65b2016c8437"
      },
      "outputs": [
        {
          "output_type": "stream",
          "name": "stdout",
          "text": [
            "[[0.36787944 0.44822088 0.51979489 0.57375342 0.60279818 0.60279818\n",
            "  0.57375342 0.51979489 0.44822088 0.36787944]\n",
            " [0.44822088 0.54610814 0.63331324 0.69905581 0.73444367 0.73444367\n",
            "  0.69905581 0.63331324 0.54610814 0.44822088]\n",
            " [0.51979489 0.63331324 0.73444367 0.81068432 0.85172308 0.85172308\n",
            "  0.81068432 0.73444367 0.63331324 0.51979489]\n",
            " [0.57375342 0.69905581 0.81068432 0.89483932 0.9401382  0.9401382\n",
            "  0.89483932 0.81068432 0.69905581 0.57375342]\n",
            " [0.60279818 0.73444367 0.85172308 0.9401382  0.98773022 0.98773022\n",
            "  0.9401382  0.85172308 0.73444367 0.60279818]\n",
            " [0.60279818 0.73444367 0.85172308 0.9401382  0.98773022 0.98773022\n",
            "  0.9401382  0.85172308 0.73444367 0.60279818]\n",
            " [0.57375342 0.69905581 0.81068432 0.89483932 0.9401382  0.9401382\n",
            "  0.89483932 0.81068432 0.69905581 0.57375342]\n",
            " [0.51979489 0.63331324 0.73444367 0.81068432 0.85172308 0.85172308\n",
            "  0.81068432 0.73444367 0.63331324 0.51979489]\n",
            " [0.44822088 0.54610814 0.63331324 0.69905581 0.73444367 0.73444367\n",
            "  0.69905581 0.63331324 0.54610814 0.44822088]\n",
            " [0.36787944 0.44822088 0.51979489 0.57375342 0.60279818 0.60279818\n",
            "  0.57375342 0.51979489 0.44822088 0.36787944]]\n"
          ]
        }
      ],
      "source": [
        "X, Y = np.meshgrid(np.linspace(-1,1,10), np.linspace(-1,1,10))\n",
        "D = np.sqrt(X*X+Y*Y)\n",
        "sigma, mu = 1.0, 0.0\n",
        "G = np.exp(-( (D-mu)**2 / ( 2.0 * sigma**2 ) ) )\n",
        "print(G)\n"
      ]
    },
    {
      "cell_type": "markdown",
      "metadata": {
        "id": "Opo56ws428sM"
      },
      "source": [
        "#### 57. How to randomly place p elements in a 2D array? (★★☆) \n",
        "(**hint**: np.put, np.random.choice)"
      ]
    },
    {
      "cell_type": "code",
      "execution_count": null,
      "metadata": {
        "id": "foXC6JW528sP",
        "colab": {
          "base_uri": "https://localhost:8080/"
        },
        "outputId": "aee2b894-78fa-4716-cc3c-26df96f1e9e7"
      },
      "outputs": [
        {
          "output_type": "stream",
          "name": "stdout",
          "text": [
            "[[0. 0. 0. 0. 0. 0. 0. 0. 0. 0.]\n",
            " [0. 0. 0. 1. 0. 0. 0. 0. 0. 0.]\n",
            " [0. 0. 0. 0. 0. 0. 0. 0. 0. 0.]\n",
            " [0. 0. 0. 0. 0. 0. 0. 0. 0. 0.]\n",
            " [0. 0. 0. 0. 0. 0. 0. 0. 0. 0.]\n",
            " [0. 0. 0. 0. 0. 0. 0. 0. 0. 0.]\n",
            " [0. 0. 0. 0. 0. 0. 0. 0. 0. 0.]\n",
            " [0. 0. 0. 0. 0. 0. 0. 1. 0. 0.]\n",
            " [0. 0. 0. 0. 0. 0. 0. 0. 1. 0.]\n",
            " [0. 0. 0. 0. 0. 0. 0. 0. 0. 0.]]\n"
          ]
        }
      ],
      "source": [
        "n = 10\n",
        "p = 3\n",
        "Z = np.zeros((n,n))\n",
        "np.put(Z, np.random.choice(range(n*n), p, replace=False),1)\n",
        "print(Z)\n"
      ]
    },
    {
      "cell_type": "markdown",
      "metadata": {
        "id": "8SLh8bNn28sQ"
      },
      "source": [
        "#### 58. Subtract the mean of each row of a matrix (★★☆) \n",
        "(**hint**: mean(axis=,keepdims=))"
      ]
    },
    {
      "cell_type": "code",
      "execution_count": null,
      "metadata": {
        "id": "9HIajfLx28sS"
      },
      "outputs": [],
      "source": [
        "X = np.random.rand(5, 10)"
      ]
    },
    {
      "cell_type": "code",
      "source": [
        "Y = X - X.mean(axis=1, keepdims=True)"
      ],
      "metadata": {
        "id": "ex6__z7cU0y1"
      },
      "execution_count": null,
      "outputs": []
    },
    {
      "cell_type": "code",
      "source": [
        "Y = X - X.mean(axis=1).reshape(-1, 1)\n",
        "\n",
        "print(Y)"
      ],
      "metadata": {
        "colab": {
          "base_uri": "https://localhost:8080/"
        },
        "id": "GBx4rDP8U2m9",
        "outputId": "f5b15432-23e8-4380-e808-678ff2feebd2"
      },
      "execution_count": null,
      "outputs": [
        {
          "output_type": "stream",
          "name": "stdout",
          "text": [
            "[[ 0.44772336  0.19329902  0.38139862  0.23052242  0.21590964 -0.33367835\n",
            "  -0.47529826 -0.46867495  0.12469621 -0.31589769]\n",
            " [ 0.18708736  0.12042199 -0.25393681  0.00093793  0.32569099  0.15559962\n",
            "  -0.09420231 -0.06557285 -0.12108413 -0.25494179]\n",
            " [ 0.30905651  0.16568546  0.47208614 -0.24204734 -0.40768069 -0.13345213\n",
            "  -0.05585939  0.11490241 -0.31369956  0.09100859]\n",
            " [-0.18038295  0.34365323 -0.59959339 -0.44052287 -0.09706882  0.00502134\n",
            "   0.14939116  0.3481015   0.37883861  0.09256218]\n",
            " [ 0.47639894  0.38730503  0.16518067  0.21079884 -0.28232067  0.44837342\n",
            "  -0.45289963 -0.42913023 -0.45109695 -0.07260943]]\n"
          ]
        }
      ]
    },
    {
      "cell_type": "markdown",
      "metadata": {
        "id": "eTt379yH28sU"
      },
      "source": [
        "#### 59. How to sort an array by the nth column? (★★☆) \n",
        "(**hint**: argsort)"
      ]
    },
    {
      "cell_type": "code",
      "execution_count": null,
      "metadata": {
        "id": "KLAaEtMw28sW",
        "colab": {
          "base_uri": "https://localhost:8080/"
        },
        "outputId": "62fb6420-823b-497b-9bab-ab450c5df683"
      },
      "outputs": [
        {
          "output_type": "stream",
          "name": "stdout",
          "text": [
            "[[8 7 7]\n",
            " [0 5 7]\n",
            " [3 7 8]]\n",
            "[[0 5 7]\n",
            " [8 7 7]\n",
            " [3 7 8]]\n"
          ]
        }
      ],
      "source": [
        "Z = np.random.randint(0,10,(3,3))\n",
        "print(Z)\n",
        "print(Z[Z[:,1].argsort()])"
      ]
    },
    {
      "cell_type": "markdown",
      "metadata": {
        "id": "aLVb73Ef28sX"
      },
      "source": [
        "#### 60. How to tell if a given 2D array has null columns? (★★☆) \n",
        "(**hint**: any, ~)"
      ]
    },
    {
      "cell_type": "code",
      "execution_count": null,
      "metadata": {
        "id": "gWDcxoxk28sY",
        "colab": {
          "base_uri": "https://localhost:8080/"
        },
        "outputId": "b29fbd09-4e32-4410-be6c-da986bdd3943"
      },
      "outputs": [
        {
          "output_type": "stream",
          "name": "stdout",
          "text": [
            "False\n"
          ]
        }
      ],
      "source": [
        "Z = np.random.randint(0,3,(3,10))\n",
        "print((~Z.any(axis=0)).any())"
      ]
    },
    {
      "cell_type": "markdown",
      "metadata": {
        "id": "ccqxLl3m28sZ"
      },
      "source": [
        "#### 61. Find the nearest value from a given value in an array (★★☆) \n",
        "(**hint**: np.abs, argmin, flat)"
      ]
    },
    {
      "cell_type": "code",
      "execution_count": null,
      "metadata": {
        "id": "JHsSfbFt28sa",
        "colab": {
          "base_uri": "https://localhost:8080/"
        },
        "outputId": "8a5f43ec-2994-43d6-eb9c-12a9b6fe9287"
      },
      "outputs": [
        {
          "output_type": "stream",
          "name": "stdout",
          "text": [
            "0.5805502999344301\n"
          ]
        }
      ],
      "source": [
        "Z = np.random.uniform(0,1,10)\n",
        "z = 0.5\n",
        "m = Z.flat[np.abs(Z - z).argmin()]\n",
        "print(m)"
      ]
    },
    {
      "cell_type": "markdown",
      "metadata": {
        "id": "p8EEIO9z28sb"
      },
      "source": [
        "#### 62. Considering two arrays with shape (1,3) and (3,1), how to compute their sum using an iterator? (★★☆) \n",
        "(**hint**: np.nditer)"
      ]
    },
    {
      "cell_type": "code",
      "execution_count": null,
      "metadata": {
        "id": "iCENBqq128sc",
        "colab": {
          "base_uri": "https://localhost:8080/"
        },
        "outputId": "31155fca-4b64-49ac-8c57-74a2e22acb62"
      },
      "outputs": [
        {
          "output_type": "stream",
          "name": "stdout",
          "text": [
            "[[0 1 2]\n",
            " [1 2 3]\n",
            " [2 3 4]]\n"
          ]
        }
      ],
      "source": [
        "A = np.arange(3).reshape(3,1)\n",
        "B = np.arange(3).reshape(1,3)\n",
        "it = np.nditer([A,B,None])\n",
        "for x,y,z in it: z[...] = x + y\n",
        "print(it.operands[2])"
      ]
    },
    {
      "cell_type": "markdown",
      "metadata": {
        "id": "RqRIrP1Q28sd"
      },
      "source": [
        "#### 63. Create an array class that has a name attribute (★★☆) \n",
        "(**hint**: class method)"
      ]
    },
    {
      "cell_type": "code",
      "execution_count": null,
      "metadata": {
        "id": "EFknOlEs28se"
      },
      "outputs": [],
      "source": [
        "class NamedArray(np.ndarray):\n",
        "    def __new__(cls, array, name=\"no name\"):\n",
        "        obj = np.asarray(array).view(cls)\n",
        "        obj.name = name\n",
        "        return obj\n",
        "    def __array_finalize__(self, obj):\n",
        "        if obj is None: return\n",
        "        self.info = getattr(obj, 'name', \"no name\")\n"
      ]
    },
    {
      "cell_type": "code",
      "source": [
        "Z = NamedArray(np.arange(10), \"range_10\")\n",
        "print (Z.name)"
      ],
      "metadata": {
        "colab": {
          "base_uri": "https://localhost:8080/"
        },
        "id": "rsE7FKe5VnS4",
        "outputId": "a4f17782-ccd8-4bfe-8168-008879d72f1c"
      },
      "execution_count": null,
      "outputs": [
        {
          "output_type": "stream",
          "name": "stdout",
          "text": [
            "range_10\n"
          ]
        }
      ]
    },
    {
      "cell_type": "markdown",
      "metadata": {
        "id": "FSSFXH9R28sf"
      },
      "source": [
        "#### 64. Consider a given vector, how to add 1 to each element indexed by a second vector (be careful with repeated indices)? (★★★) \n",
        "(**hint**: np.bincount | np.add.at)"
      ]
    },
    {
      "cell_type": "code",
      "execution_count": null,
      "metadata": {
        "id": "XzXZ50Qy28sh",
        "colab": {
          "base_uri": "https://localhost:8080/"
        },
        "outputId": "65508f30-5bfe-40d0-9d1a-45c480e0ce70"
      },
      "outputs": [
        {
          "output_type": "stream",
          "name": "stdout",
          "text": [
            "[3. 2. 7. 2. 4. 2. 3. 3. 2. 2.]\n",
            "[ 5.  3. 13.  3.  7.  3.  5.  5.  3.  3.]\n"
          ]
        }
      ],
      "source": [
        "Z = np.ones(10)\n",
        "I = np.random.randint(0,len(Z),20)\n",
        "Z += np.bincount(I, minlength=len(Z))\n",
        "print(Z)\n",
        "\n",
        "np.add.at(Z, I, 1)\n",
        "print(Z)"
      ]
    },
    {
      "cell_type": "markdown",
      "metadata": {
        "id": "Vjxen7Ij28si"
      },
      "source": [
        "#### 65. How to accumulate elements of a vector (X) to an array (F) based on an index list (I)? (★★★) \n",
        "(**hint**: np.bincount)"
      ]
    },
    {
      "cell_type": "code",
      "execution_count": null,
      "metadata": {
        "id": "82ewGJm-28sk",
        "colab": {
          "base_uri": "https://localhost:8080/"
        },
        "outputId": "f49054f1-67ce-4578-dbef-97ba59718544"
      },
      "outputs": [
        {
          "output_type": "stream",
          "name": "stdout",
          "text": [
            "[0. 7. 0. 6. 5. 0. 0. 0. 0. 3.]\n"
          ]
        }
      ],
      "source": [
        "X = [1,2,3,4,5,6]\n",
        "I = [1,3,9,3,4,1]\n",
        "F = np.bincount(I,X)\n",
        "print(F)"
      ]
    },
    {
      "cell_type": "markdown",
      "metadata": {
        "id": "7YmlKqSS28sl"
      },
      "source": [
        "#### 66. Considering a (w,h,3) image of (dtype=ubyte), compute the number of unique colors (★★★) \n",
        "(**hint**: np.unique)"
      ]
    },
    {
      "cell_type": "code",
      "execution_count": null,
      "metadata": {
        "id": "FKDPnXTp28sm",
        "colab": {
          "base_uri": "https://localhost:8080/"
        },
        "outputId": "a1df455d-a0b7-4406-dccc-351bf6036bdb"
      },
      "outputs": [
        {
          "output_type": "stream",
          "name": "stdout",
          "text": [
            "8\n"
          ]
        }
      ],
      "source": [
        "w,h = 16,16\n",
        "I = np.random.randint(0,2,(h,w,3)).astype(np.ubyte)\n",
        "#Note that we should compute 256*256 first. \n",
        "#Otherwise numpy will only promote F.dtype to 'uint16' and overfolw will occur\n",
        "F = I[...,0]*(256*256) + I[...,1]*256 +I[...,2]\n",
        "n = len(np.unique(F))\n",
        "print(n)\n"
      ]
    },
    {
      "cell_type": "markdown",
      "metadata": {
        "id": "GpqMvDuD28sn"
      },
      "source": [
        "#### 67. Considering a four dimensions array, how to get sum over the last two axis at once? (★★★) \n",
        "(**hint**: sum(axis=(-2,-1)))"
      ]
    },
    {
      "cell_type": "code",
      "execution_count": null,
      "metadata": {
        "id": "ChDpOEgA28so",
        "colab": {
          "base_uri": "https://localhost:8080/"
        },
        "outputId": "19dcd956-9a63-478b-e9b9-6feb809ece7c"
      },
      "outputs": [
        {
          "output_type": "stream",
          "name": "stdout",
          "text": [
            "[[60 50 66 67]\n",
            " [54 54 64 41]\n",
            " [57 54 48 49]]\n",
            "[[60 50 66 67]\n",
            " [54 54 64 41]\n",
            " [57 54 48 49]]\n"
          ]
        }
      ],
      "source": [
        "A = np.random.randint(0,10,(3,4,3,4))\n",
        "# solution by passing a tuple of axes (introduced in numpy 1.7.0)\n",
        "sum = A.sum(axis=(-2,-1))\n",
        "print(sum)\n",
        "# solution by flattening the last two dimensions into one\n",
        "# (useful for functions that don't accept tuples for axis argument)\n",
        "sum = A.reshape(A.shape[:-2] + (-1,)).sum(axis=-1)\n",
        "print(sum)\n"
      ]
    },
    {
      "cell_type": "markdown",
      "metadata": {
        "id": "o76b_6lf28sp"
      },
      "source": [
        "#### 68. Considering a one-dimensional vector D, how to compute means of subsets of D using a vector S of same size describing subset  indices? (★★★) \n",
        "(**hint**: np.bincount)"
      ]
    },
    {
      "cell_type": "code",
      "execution_count": null,
      "metadata": {
        "id": "6mUU8YPl28sq",
        "colab": {
          "base_uri": "https://localhost:8080/"
        },
        "outputId": "ba9f9f25-72e0-4b29-dd51-73cc942af398"
      },
      "outputs": [
        {
          "output_type": "stream",
          "name": "stdout",
          "text": [
            "[0.54037208 0.66895514 0.52506539 0.44299138 0.61163152 0.5547903\n",
            " 0.52300685 0.48769006 0.54768091 0.47595688]\n"
          ]
        }
      ],
      "source": [
        "D = np.random.uniform(0,1,100)\n",
        "S = np.random.randint(0,10,100)\n",
        "D_sums = np.bincount(S, weights=D)\n",
        "D_counts = np.bincount(S)\n",
        "D_means = D_sums / D_counts\n",
        "print(D_means)\n"
      ]
    },
    {
      "cell_type": "code",
      "source": [
        "import pandas as pd\n",
        "print(pd.Series(D).groupby(S).mean())\n"
      ],
      "metadata": {
        "colab": {
          "base_uri": "https://localhost:8080/"
        },
        "id": "G1co76zlWe3Z",
        "outputId": "9768e943-de3a-4606-f0ef-3cbafec2d468"
      },
      "execution_count": null,
      "outputs": [
        {
          "output_type": "stream",
          "name": "stdout",
          "text": [
            "0    0.540372\n",
            "1    0.668955\n",
            "2    0.525065\n",
            "3    0.442991\n",
            "4    0.611632\n",
            "5    0.554790\n",
            "6    0.523007\n",
            "7    0.487690\n",
            "8    0.547681\n",
            "9    0.475957\n",
            "dtype: float64\n"
          ]
        }
      ]
    },
    {
      "cell_type": "markdown",
      "metadata": {
        "id": "VzEIv0LF28sr"
      },
      "source": [
        "#### 69. How to get the diagonal of a dot product? (★★★) \n",
        "(**hint**: np.diag)"
      ]
    },
    {
      "cell_type": "code",
      "execution_count": null,
      "metadata": {
        "id": "0Jx3I7MN28ss"
      },
      "outputs": [],
      "source": [
        "A = np.random.uniform(0,1,(5,5))\n",
        "B = np.random.uniform(0,1,(5,5))\n"
      ]
    },
    {
      "cell_type": "code",
      "source": [
        "np.diag(np.dot(A, B))"
      ],
      "metadata": {
        "colab": {
          "base_uri": "https://localhost:8080/"
        },
        "id": "PL9xs42vWo9O",
        "outputId": "863cbcd5-58b5-4a59-9c08-8b2c63506630"
      },
      "execution_count": null,
      "outputs": [
        {
          "output_type": "execute_result",
          "data": {
            "text/plain": [
              "array([2.26130167, 1.08215491, 0.58582244, 2.09926045, 2.05536795])"
            ]
          },
          "metadata": {},
          "execution_count": 120
        }
      ]
    },
    {
      "cell_type": "code",
      "source": [
        "np.sum(A * B.T, axis=1)"
      ],
      "metadata": {
        "colab": {
          "base_uri": "https://localhost:8080/"
        },
        "id": "CLpUXi1BWr9w",
        "outputId": "ddd44ae5-dd29-4a5e-a48e-eaa8cf8eab98"
      },
      "execution_count": null,
      "outputs": [
        {
          "output_type": "execute_result",
          "data": {
            "text/plain": [
              "array([2.26130167, 1.08215491, 0.58582244, 2.09926045, 2.05536795])"
            ]
          },
          "metadata": {},
          "execution_count": 121
        }
      ]
    },
    {
      "cell_type": "code",
      "source": [
        "np.einsum(\"ij,ji->i\", A, B)"
      ],
      "metadata": {
        "colab": {
          "base_uri": "https://localhost:8080/"
        },
        "id": "YO20BfgEWvLc",
        "outputId": "10fefad2-4286-4ce3-c0d9-3dbefbb41499"
      },
      "execution_count": null,
      "outputs": [
        {
          "output_type": "execute_result",
          "data": {
            "text/plain": [
              "array([2.26130167, 1.08215491, 0.58582244, 2.09926045, 2.05536795])"
            ]
          },
          "metadata": {},
          "execution_count": 122
        }
      ]
    },
    {
      "cell_type": "markdown",
      "metadata": {
        "id": "eRLmom1p28st"
      },
      "source": [
        "#### 70. Consider the vector \\[1, 2, 3, 4, 5\\], how to build a new vector with 3 consecutive zeros interleaved between each value? (★★★) \n",
        "(**hint**: array\\[::4\\])"
      ]
    },
    {
      "cell_type": "code",
      "execution_count": null,
      "metadata": {
        "id": "BWWLuL1s28sv",
        "colab": {
          "base_uri": "https://localhost:8080/"
        },
        "outputId": "ca782e24-e2cf-47e1-df2d-77b50d995f3b"
      },
      "outputs": [
        {
          "output_type": "stream",
          "name": "stdout",
          "text": [
            "[1. 0. 0. 0. 2. 0. 0. 0. 3. 0. 0. 0. 4. 0. 0. 0. 5.]\n"
          ]
        }
      ],
      "source": [
        "Z = np.array([1,2,3,4,5])\n",
        "nz = 3\n",
        "Z0 = np.zeros(len(Z) + (len(Z)-1)*(nz))\n",
        "Z0[::nz+1] = Z\n",
        "print(Z0)"
      ]
    },
    {
      "cell_type": "markdown",
      "metadata": {
        "id": "Cu1xaKNz28sw"
      },
      "source": [
        "#### 71. Consider an array of dimension (5,5,3), how to mulitply it by an array with dimensions (5,5)? (★★★) \n",
        "(**hint**: array\\[:, :, None\\])"
      ]
    },
    {
      "cell_type": "code",
      "execution_count": null,
      "metadata": {
        "collapsed": true,
        "id": "dwqTOnrB28sx",
        "colab": {
          "base_uri": "https://localhost:8080/"
        },
        "outputId": "a4e43e13-13ab-462d-9ccb-bf69869b5599"
      },
      "outputs": [
        {
          "output_type": "stream",
          "name": "stdout",
          "text": [
            "[[[2. 2. 2.]\n",
            "  [2. 2. 2.]\n",
            "  [2. 2. 2.]\n",
            "  [2. 2. 2.]\n",
            "  [2. 2. 2.]]\n",
            "\n",
            " [[2. 2. 2.]\n",
            "  [2. 2. 2.]\n",
            "  [2. 2. 2.]\n",
            "  [2. 2. 2.]\n",
            "  [2. 2. 2.]]\n",
            "\n",
            " [[2. 2. 2.]\n",
            "  [2. 2. 2.]\n",
            "  [2. 2. 2.]\n",
            "  [2. 2. 2.]\n",
            "  [2. 2. 2.]]\n",
            "\n",
            " [[2. 2. 2.]\n",
            "  [2. 2. 2.]\n",
            "  [2. 2. 2.]\n",
            "  [2. 2. 2.]\n",
            "  [2. 2. 2.]]\n",
            "\n",
            " [[2. 2. 2.]\n",
            "  [2. 2. 2.]\n",
            "  [2. 2. 2.]\n",
            "  [2. 2. 2.]\n",
            "  [2. 2. 2.]]]\n"
          ]
        }
      ],
      "source": [
        "A = np.ones((5,5,3))\n",
        "B = 2*np.ones((5,5))\n",
        "print(A * B[:,:,None])"
      ]
    },
    {
      "cell_type": "markdown",
      "metadata": {
        "id": "mAMr3DVI28sy"
      },
      "source": [
        "#### 72. How to swap two rows of an array? (★★★) \n",
        "(**hint**: array\\[\\[\\]\\] = array\\[\\[\\]\\])"
      ]
    },
    {
      "cell_type": "code",
      "execution_count": null,
      "metadata": {
        "id": "tl0_3FPa28sz",
        "colab": {
          "base_uri": "https://localhost:8080/"
        },
        "outputId": "9bd0cee9-6a7a-421a-d7a1-7c90ce4503b2"
      },
      "outputs": [
        {
          "output_type": "stream",
          "name": "stdout",
          "text": [
            "[[ 5  6  7  8  9]\n",
            " [ 0  1  2  3  4]\n",
            " [10 11 12 13 14]\n",
            " [15 16 17 18 19]\n",
            " [20 21 22 23 24]]\n"
          ]
        }
      ],
      "source": [
        "A = np.arange(25).reshape(5,5)\n",
        "A[[0,1]] = A[[1,0]]\n",
        "print(A)"
      ]
    },
    {
      "cell_type": "markdown",
      "metadata": {
        "id": "0ksdQjv228s0"
      },
      "source": [
        "#### 73. Consider a set of 10 triplets describing 10 triangles (with shared vertices), find the set of unique line segments composing all the  triangles (★★★) \n",
        "(**hint**: repeat, np.roll, np.sort, view, np.unique)"
      ]
    },
    {
      "cell_type": "code",
      "execution_count": null,
      "metadata": {
        "id": "nRgdjbgO28s2",
        "colab": {
          "base_uri": "https://localhost:8080/"
        },
        "outputId": "8975f816-5681-40c3-b80b-4d66e5e1d6d9"
      },
      "outputs": [
        {
          "output_type": "stream",
          "name": "stdout",
          "text": [
            "[( 0, 88) ( 0, 95) ( 2, 24) ( 2, 55) ( 5, 26) ( 5, 82) ( 6, 35) ( 6, 50)\n",
            " ( 9, 78) ( 9, 82) (10, 58) (10, 95) (13, 62) (13, 78) (20, 44) (20, 93)\n",
            " (24, 55) (26, 82) (29, 53) (29, 96) (35, 50) (44, 53) (44, 56) (44, 93)\n",
            " (53, 56) (53, 96) (58, 95) (62, 78) (78, 82) (88, 95)]\n"
          ]
        }
      ],
      "source": [
        "faces = np.random.randint(0,100,(10,3))\n",
        "F = np.roll(faces.repeat(2,axis=1),-1,axis=1)\n",
        "F = F.reshape(len(F)*3,2)\n",
        "F = np.sort(F,axis=1)\n",
        "G = F.view( dtype=[('p0',F.dtype),('p1',F.dtype)] )\n",
        "G = np.unique(G)\n",
        "print(G)"
      ]
    },
    {
      "cell_type": "markdown",
      "metadata": {
        "id": "SxKLKg1r28s4"
      },
      "source": [
        "#### 74. Given an array C that is a bincount, how to produce an array A such that np.bincount(A) == C? (★★★) \n",
        "(**hint**: np.repeat)"
      ]
    },
    {
      "cell_type": "code",
      "execution_count": null,
      "metadata": {
        "id": "XbyYSuNL28s5",
        "colab": {
          "base_uri": "https://localhost:8080/"
        },
        "outputId": "4eab1a16-8b69-44ca-c34c-780dae9ff52b"
      },
      "outputs": [
        {
          "output_type": "stream",
          "name": "stdout",
          "text": [
            "[1 1 2 3 4 4 6]\n"
          ]
        }
      ],
      "source": [
        "C = np.bincount([1,1,2,3,4,4,6])\n",
        "A = np.repeat(np.arange(len(C)), C)\n",
        "print(A)"
      ]
    },
    {
      "cell_type": "markdown",
      "metadata": {
        "id": "GZyB9lZJ28s6"
      },
      "source": [
        "#### 75. How to compute averages using a sliding window over an array? (★★★) \n",
        "(**hint**: np.cumsum)"
      ]
    },
    {
      "cell_type": "code",
      "execution_count": null,
      "metadata": {
        "id": "Picd_es228s7",
        "colab": {
          "base_uri": "https://localhost:8080/"
        },
        "outputId": "f4a86540-09de-4df4-fb00-1202eb60f455"
      },
      "outputs": [
        {
          "output_type": "stream",
          "name": "stdout",
          "text": [
            "[ 1.  2.  3.  4.  5.  6.  7.  8.  9. 10. 11. 12. 13. 14. 15. 16. 17. 18.]\n"
          ]
        }
      ],
      "source": [
        "def moving_average(a, n=3) :\n",
        "    ret = np.cumsum(a, dtype=float)\n",
        "    ret[n:] = ret[n:] - ret[:-n]\n",
        "    return ret[n - 1:] / n\n",
        "Z = np.arange(20)\n",
        "print(moving_average(Z, n=3))\n"
      ]
    },
    {
      "cell_type": "markdown",
      "metadata": {
        "id": "LepI9Mwn28s8"
      },
      "source": [
        "#### 76. Consider a one-dimensional array Z, build a two-dimensional array whose first row is (Z\\[0\\],Z\\[1\\],Z\\[2\\]) and each subsequent row is  shifted by 1 (last row should be (Z\\[-3\\],Z\\[-2\\],Z\\[-1\\]) (★★★) \n",
        "(**hint**: from numpy.lib import stride_tricks)"
      ]
    },
    {
      "cell_type": "code",
      "execution_count": null,
      "metadata": {
        "id": "nfgRqkYY28s8"
      },
      "outputs": [],
      "source": [
        "from numpy.lib import stride_tricks"
      ]
    },
    {
      "cell_type": "code",
      "source": [
        "def rolling(a, window):\n",
        "    shape = (a.size - window + 1, window)\n",
        "    strides = (a.itemsize, a.itemsize)\n",
        "    return stride_tricks.as_strided(a, shape=shape, strides=strides)\n",
        "Z = rolling(np.arange(10), 3)\n",
        "print(Z)"
      ],
      "metadata": {
        "colab": {
          "base_uri": "https://localhost:8080/"
        },
        "id": "mtb4j8JBXjVL",
        "outputId": "0edcd0d7-4236-459c-b899-d970b758469a"
      },
      "execution_count": null,
      "outputs": [
        {
          "output_type": "stream",
          "name": "stdout",
          "text": [
            "[[0 1 2]\n",
            " [1 2 3]\n",
            " [2 3 4]\n",
            " [3 4 5]\n",
            " [4 5 6]\n",
            " [5 6 7]\n",
            " [6 7 8]\n",
            " [7 8 9]]\n"
          ]
        }
      ]
    },
    {
      "cell_type": "markdown",
      "metadata": {
        "id": "katZSyC728s9"
      },
      "source": [
        "#### 77. How to negate a boolean, or to change the sign of a float inplace? (★★★) \n",
        "(**hint**: np.logical_not, np.negative)"
      ]
    },
    {
      "cell_type": "code",
      "execution_count": null,
      "metadata": {
        "id": "yNb323E628s-",
        "colab": {
          "base_uri": "https://localhost:8080/"
        },
        "outputId": "1630afa3-ca61-46ee-940f-9b490db1ffb7"
      },
      "outputs": [
        {
          "output_type": "execute_result",
          "data": {
            "text/plain": [
              "array([0, 0, 1, 0, 1, 0, 1, 0, 1, 0, 1, 1, 1, 0, 1, 1, 1, 1, 1, 0, 1, 1,\n",
              "       0, 0, 0, 1, 0, 0, 0, 0, 0, 1, 0, 1, 0, 1, 0, 1, 0, 0, 1, 1, 0, 0,\n",
              "       1, 1, 1, 1, 0, 0, 0, 1, 1, 1, 1, 0, 0, 1, 1, 1, 0, 0, 0, 1, 1, 0,\n",
              "       1, 0, 1, 1, 0, 1, 1, 0, 0, 0, 0, 1, 0, 0, 1, 0, 0, 1, 0, 0, 0, 1,\n",
              "       1, 0, 1, 1, 0, 0, 1, 1, 0, 0, 0, 1])"
            ]
          },
          "metadata": {},
          "execution_count": 131
        }
      ],
      "source": [
        "Z = np.random.randint(0,2,100)\n",
        "np.logical_not(Z, out=Z)"
      ]
    },
    {
      "cell_type": "code",
      "source": [
        "Z = np.random.uniform(-1.0,1.0,100)\n",
        "np.negative(Z, out=Z)\n"
      ],
      "metadata": {
        "colab": {
          "base_uri": "https://localhost:8080/"
        },
        "id": "1uryZvxbXtBS",
        "outputId": "fa0f7709-7b4b-4ae8-de3e-e073b18a4d18"
      },
      "execution_count": null,
      "outputs": [
        {
          "output_type": "execute_result",
          "data": {
            "text/plain": [
              "array([ 4.70899213e-01,  5.81579146e-01,  2.20332306e-01,  4.11780713e-01,\n",
              "       -9.70616790e-01, -9.45800615e-01, -6.92845950e-01, -2.67902392e-01,\n",
              "       -3.41720954e-03,  7.96834007e-01,  8.41158716e-01, -7.36794245e-01,\n",
              "        6.12552703e-01,  1.58672602e-01, -2.10110014e-01, -8.61542565e-04,\n",
              "        7.10365460e-02, -7.06082453e-01,  4.81636012e-01,  8.62247465e-01,\n",
              "        8.70480191e-01,  1.73159581e-01,  8.56782404e-01,  4.60329453e-01,\n",
              "        8.74609757e-01,  6.46243482e-01, -5.49078557e-01, -1.95075677e-01,\n",
              "        4.48496210e-01,  3.90621804e-01, -2.46904627e-01, -8.41807408e-01,\n",
              "        4.11898031e-01,  9.52866238e-02, -3.23161114e-01,  3.79645148e-01,\n",
              "       -7.86338319e-01,  5.10585570e-01, -2.21753485e-01, -3.10982663e-01,\n",
              "        7.76193456e-01,  3.67268537e-01,  6.81557355e-01, -9.88226568e-01,\n",
              "       -2.32094682e-01,  4.68737796e-01, -8.18368034e-02, -3.63827270e-01,\n",
              "        3.05440400e-01, -9.89024830e-01, -3.38712598e-01, -8.65507096e-01,\n",
              "        7.61222388e-01, -3.10381421e-01,  9.67242162e-01,  3.64238803e-01,\n",
              "        8.31612223e-01, -5.54482732e-01,  3.60497405e-01, -7.35738733e-01,\n",
              "        6.35947727e-01, -9.45712451e-01, -7.78599248e-02,  9.37405072e-01,\n",
              "       -2.42151217e-01,  8.47766340e-02,  2.07745282e-01, -9.64035923e-01,\n",
              "        5.64240157e-01,  2.17184464e-01,  7.78781024e-01,  5.93526692e-01,\n",
              "        1.74376535e-01, -2.87459025e-01,  9.54210595e-01, -5.73532456e-01,\n",
              "       -2.17644949e-01,  2.59993500e-03,  7.46756109e-01, -1.02527080e-01,\n",
              "        2.22362663e-01, -5.10191787e-01, -1.29301229e-01, -9.48184190e-01,\n",
              "        1.23279937e-01, -3.64721346e-01, -5.85537597e-01, -6.65269270e-01,\n",
              "       -9.56163861e-01, -4.74954134e-01,  6.89828263e-01,  4.81459946e-01,\n",
              "       -3.04009658e-01,  2.17164101e-01,  6.21938704e-01,  3.72799597e-01,\n",
              "       -2.24263626e-01,  5.22608314e-01, -5.79288755e-01, -9.76987626e-01])"
            ]
          },
          "metadata": {},
          "execution_count": 132
        }
      ]
    },
    {
      "cell_type": "markdown",
      "metadata": {
        "id": "fQzJZJuq28s_"
      },
      "source": [
        "#### 78. Consider 2 sets of points P0,P1 describing lines (2d) and a point p, how to compute distance from p to each line i  (P0\\[i\\],P1\\[i\\])? (★★★)"
      ]
    },
    {
      "cell_type": "code",
      "execution_count": null,
      "metadata": {
        "id": "S9xxcgsD28tB",
        "colab": {
          "base_uri": "https://localhost:8080/"
        },
        "outputId": "7fdb4036-0993-4db5-f45c-17d8c78cad8d"
      },
      "outputs": [
        {
          "output_type": "stream",
          "name": "stdout",
          "text": [
            "[ 7.14997574  7.7177273   4.19990109  3.89500459 11.6313298   9.21872729\n",
            "  3.78596762  4.9479533   9.05747656  1.22712014]\n"
          ]
        }
      ],
      "source": [
        "def distance(P0, P1, p):\n",
        "    T = P1 - P0\n",
        "    L = (T**2).sum(axis=1)\n",
        "    U = -((P0[:,0]-p[...,0])*T[:,0] + (P0[:,1]-p[...,1])*T[:,1]) / L\n",
        "    U = U.reshape(len(U),1)\n",
        "    D = P0 + U*T - p\n",
        "    return np.sqrt((D**2).sum(axis=1))\n",
        "\n",
        "P0 = np.random.uniform(-10,10,(10,2))\n",
        "P1 = np.random.uniform(-10,10,(10,2))\n",
        "p  = np.random.uniform(-10,10,( 1,2))\n",
        "print(distance(P0, P1, p))\n"
      ]
    },
    {
      "cell_type": "markdown",
      "metadata": {
        "id": "EpipEU0A28tC"
      },
      "source": [
        "#### 79. Consider 2 sets of points P0,P1 describing lines (2d) and a set of points P, how to compute distance from each point j (P\\[j\\]) to each line i (P0\\[i\\],P1\\[i\\])? (★★★)"
      ]
    },
    {
      "cell_type": "code",
      "execution_count": null,
      "metadata": {
        "id": "JjZLFIAY28tD",
        "colab": {
          "base_uri": "https://localhost:8080/"
        },
        "outputId": "65c22931-5e39-4810-da5e-b9917c347500"
      },
      "outputs": [
        {
          "output_type": "stream",
          "name": "stdout",
          "text": [
            "[[3.56600574e+00 6.71152941e+00 2.21646849e+00 1.10426573e+01\n",
            "  6.22663409e+00 1.42621489e+01 2.11007859e+00 7.81459019e+00\n",
            "  1.41087089e+00 1.18943693e+01]\n",
            " [1.38331485e+01 9.74260149e+00 1.24739710e+01 5.20558305e+00\n",
            "  8.80482312e+00 5.67298374e+00 1.25373531e+01 9.45515980e-01\n",
            "  1.41836062e+01 8.20463635e+00]\n",
            " [8.08993653e+00 8.10237367e-01 1.40755069e+01 1.50332158e+00\n",
            "  6.51494490e+00 1.50881988e+01 2.94155964e+00 8.49880031e+00\n",
            "  1.12830333e+01 1.64215900e+01]\n",
            " [8.02311595e+00 6.19286056e+00 6.27841563e+00 1.14277990e+00\n",
            "  2.30134773e+00 4.88615904e+00 1.02906847e+01 1.66008157e+00\n",
            "  7.72811177e+00 5.54904051e+00]\n",
            " [5.81854493e+00 6.15380966e+00 2.94049404e+00 1.44214445e+01\n",
            "  1.02238754e+01 1.03223790e+01 3.51268904e-01 3.91792831e+00\n",
            "  5.15482964e+00 6.99864700e+00]\n",
            " [1.19148307e+01 9.71701465e+00 8.79522737e+00 2.56560688e+00\n",
            "  5.78266287e+00 3.25853614e+00 1.33545298e+01 3.32715823e+00\n",
            "  1.13164064e+01 5.03597699e+00]\n",
            " [1.38090374e+00 3.79848332e+00 2.29863379e+00 9.40376648e+00\n",
            "  4.98497014e+00 1.15922892e+01 8.80711101e-01 5.12987002e+00\n",
            "  4.23715020e-03 9.73849829e+00]\n",
            " [7.18519307e+00 1.76401123e+00 1.09646220e+01 2.00012167e-01\n",
            "  4.35252853e+00 1.21342325e+01 4.64034726e+00 5.56784397e+00\n",
            "  9.31090431e+00 1.29963310e+01]\n",
            " [2.57567650e+00 3.57275962e+00 9.63976605e+00 4.04080126e+00\n",
            "  1.11633015e+00 1.62471023e+01 5.69554286e-01 9.71837099e+00\n",
            "  5.80691469e+00 1.59281960e+01]\n",
            " [2.58535860e+00 5.03980246e+00 2.61029111e+00 8.11354166e+00\n",
            "  5.44083068e+00 7.28252054e-02 1.11377595e+01 6.38885664e+00\n",
            "  2.94071940e-01 1.27291336e+00]]\n"
          ]
        }
      ],
      "source": [
        "import numpy as np\n",
        "P0 = np.random.uniform(-10, 10, (10,2))\n",
        "P1 = np.random.uniform(-10,10,(10,2))\n",
        "p = np.random.uniform(-10, 10, (10,2))\n",
        "print(np.array([distance(P0,P1,p_i) for p_i in p]))"
      ]
    },
    {
      "cell_type": "markdown",
      "metadata": {
        "id": "UMPtE8Q028tE"
      },
      "source": [
        "#### 80. Consider an arbitrary array, write a function that extract a subpart with a fixed shape and centered on a given element (pad with a `fill` value when necessary) (★★★) \n",
        "(**hint**: minimum, maximum)"
      ]
    },
    {
      "cell_type": "code",
      "execution_count": null,
      "metadata": {
        "id": "0sr6eUxt28tG"
      },
      "outputs": [],
      "source": [
        "Z = np.random.randint(0,10,(10,10))\n",
        "shape = (5,5)\n",
        "fill  = 0\n",
        "position = (1,1)\n",
        "\n",
        "R = np.ones(shape, dtype=Z.dtype)*fill\n",
        "P  = np.array(list(position)).astype(int)\n",
        "Rs = np.array(list(R.shape)).astype(int)\n",
        "Zs = np.array(list(Z.shape)).astype(int)"
      ]
    },
    {
      "cell_type": "code",
      "source": [
        "R_start = np.zeros((len(shape),)).astype(int)\n",
        "R_stop  = np.array(list(shape)).astype(int)\n",
        "Z_start = (P-Rs//2)\n",
        "Z_stop  = (P+Rs//2)+Rs%2\n",
        "\n",
        "R_start = (R_start - np.minimum(Z_start,0)).tolist()\n",
        "Z_start = (np.maximum(Z_start,0)).tolist()\n",
        "R_stop = np.maximum(R_start, (R_stop - np.maximum(Z_stop-Zs,0))).tolist()\n",
        "Z_stop = (np.minimum(Z_stop,Zs)).tolist()"
      ],
      "metadata": {
        "id": "KxhEVTM-YUiC"
      },
      "execution_count": null,
      "outputs": []
    },
    {
      "cell_type": "code",
      "source": [
        "r = [slice(start,stop) for start,stop in zip(R_start,R_stop)]\n",
        "z = [slice(start,stop) for start,stop in zip(Z_start,Z_stop)]\n",
        "R[r] = Z[z]\n",
        "print(Z)\n",
        "print(R)"
      ],
      "metadata": {
        "colab": {
          "base_uri": "https://localhost:8080/"
        },
        "id": "qnxi2vItYb19",
        "outputId": "54fbe98b-7970-42f6-b3cc-3a5080e361e9"
      },
      "execution_count": null,
      "outputs": [
        {
          "output_type": "stream",
          "name": "stdout",
          "text": [
            "[[6 1 0 8 7 9 5 1 5 0]\n",
            " [1 9 8 8 0 7 2 6 0 8]\n",
            " [7 6 7 4 8 8 3 8 9 2]\n",
            " [4 1 0 6 3 2 3 3 9 0]\n",
            " [7 7 2 1 0 3 9 9 3 1]\n",
            " [6 2 8 9 0 3 0 6 9 3]\n",
            " [6 8 6 5 6 2 3 4 5 1]\n",
            " [6 1 9 0 4 1 0 8 3 2]\n",
            " [2 8 6 3 0 5 8 0 9 7]\n",
            " [8 3 5 7 3 0 0 9 0 8]]\n",
            "[[0 0 0 0 0]\n",
            " [0 6 1 0 8]\n",
            " [0 1 9 8 8]\n",
            " [0 7 6 7 4]\n",
            " [0 4 1 0 6]]\n"
          ]
        },
        {
          "output_type": "stream",
          "name": "stderr",
          "text": [
            "/usr/local/lib/python3.7/dist-packages/ipykernel_launcher.py:3: FutureWarning: Using a non-tuple sequence for multidimensional indexing is deprecated; use `arr[tuple(seq)]` instead of `arr[seq]`. In the future this will be interpreted as an array index, `arr[np.array(seq)]`, which will result either in an error or a different result.\n",
            "  This is separate from the ipykernel package so we can avoid doing imports until\n"
          ]
        }
      ]
    },
    {
      "cell_type": "markdown",
      "metadata": {
        "id": "Dof4paqT28tH"
      },
      "source": [
        "#### 81. Consider an array Z = \\[1,2,3,4,5,6,7,8,9,10,11,12,13,14\\], how to generate an array R = \\[\\[1,2,3,4\\], \\[2,3,4,5\\], \\[3,4,5,6\\], ..., \\[11,12,13,14\\]\\]? (★★★) \n",
        "(**hint**: stride\\_tricks.as\\_strided)"
      ]
    },
    {
      "cell_type": "code",
      "execution_count": null,
      "metadata": {
        "id": "JYBS7SU528tJ",
        "colab": {
          "base_uri": "https://localhost:8080/"
        },
        "outputId": "46712726-9ff9-4c37-e2fe-563dd9b9b6d8"
      },
      "outputs": [
        {
          "output_type": "stream",
          "name": "stdout",
          "text": [
            "[[ 1  2  3  4]\n",
            " [ 2  3  4  5]\n",
            " [ 3  4  5  6]\n",
            " [ 4  5  6  7]\n",
            " [ 5  6  7  8]\n",
            " [ 6  7  8  9]\n",
            " [ 7  8  9 10]\n",
            " [ 8  9 10 11]\n",
            " [ 9 10 11 12]\n",
            " [10 11 12 13]\n",
            " [11 12 13 14]]\n"
          ]
        }
      ],
      "source": [
        "Z = np.arange(1,15,dtype=np.uint32)\n",
        "R = stride_tricks.as_strided(Z,(11,4),(4,4))\n",
        "print(R)"
      ]
    },
    {
      "cell_type": "markdown",
      "metadata": {
        "id": "hWMRTvgE28tL"
      },
      "source": [
        "#### 82. Compute a matrix rank (★★★) \n",
        "(**hint**: np.linalg.svd) (suggestion: np.linalg.svd)"
      ]
    },
    {
      "cell_type": "code",
      "execution_count": null,
      "metadata": {
        "id": "YZv4PsLk28tM",
        "colab": {
          "base_uri": "https://localhost:8080/"
        },
        "outputId": "7521d3b5-0d03-4e9f-ead5-5621be612143"
      },
      "outputs": [
        {
          "output_type": "stream",
          "name": "stdout",
          "text": [
            "10\n"
          ]
        }
      ],
      "source": [
        "Z = np.random.uniform(0,1,(10,10))\n",
        "U, S, V = np.linalg.svd(Z) # Singular Value Decomposition\n",
        "rank = np.sum(S > 1e-10)\n",
        "print(rank)"
      ]
    },
    {
      "cell_type": "markdown",
      "metadata": {
        "id": "cJDcJaou28tN"
      },
      "source": [
        "#### 83. How to find the most frequent value in an array? \n",
        "(**hint**: np.bincount, argmax)"
      ]
    },
    {
      "cell_type": "code",
      "execution_count": null,
      "metadata": {
        "id": "kstNj0Qm28tO",
        "colab": {
          "base_uri": "https://localhost:8080/"
        },
        "outputId": "f7c476f9-682e-4710-c016-8593ae285956"
      },
      "outputs": [
        {
          "output_type": "stream",
          "name": "stdout",
          "text": [
            "6\n"
          ]
        }
      ],
      "source": [
        "Z = np.random.randint(0,10,50)\n",
        "print(np.bincount(Z).argmax())"
      ]
    },
    {
      "cell_type": "markdown",
      "metadata": {
        "id": "bKZbfiVR28tO"
      },
      "source": [
        "#### 84. Extract all the contiguous 3x3 blocks from a random 10x10 matrix (★★★) \n",
        "(**hint**: stride\\_tricks.as\\_strided)"
      ]
    },
    {
      "cell_type": "code",
      "execution_count": null,
      "metadata": {
        "id": "jYbB04RP28tP",
        "colab": {
          "base_uri": "https://localhost:8080/"
        },
        "outputId": "7c58f23b-dc01-4b41-aa85-0f1c3cfe393d"
      },
      "outputs": [
        {
          "output_type": "stream",
          "name": "stdout",
          "text": [
            "[[[[1 3 2]\n",
            "   [2 2 0]\n",
            "   [4 4 2]]\n",
            "\n",
            "  [[3 2 0]\n",
            "   [2 0 0]\n",
            "   [4 2 2]]\n",
            "\n",
            "  [[2 0 0]\n",
            "   [0 0 4]\n",
            "   [2 2 1]]\n",
            "\n",
            "  [[0 0 0]\n",
            "   [0 4 1]\n",
            "   [2 1 4]]\n",
            "\n",
            "  [[0 0 3]\n",
            "   [4 1 1]\n",
            "   [1 4 3]]\n",
            "\n",
            "  [[0 3 2]\n",
            "   [1 1 4]\n",
            "   [4 3 0]]\n",
            "\n",
            "  [[3 2 4]\n",
            "   [1 4 4]\n",
            "   [3 0 1]]\n",
            "\n",
            "  [[2 4 4]\n",
            "   [4 4 4]\n",
            "   [0 1 1]]]\n",
            "\n",
            "\n",
            " [[[2 2 0]\n",
            "   [4 4 2]\n",
            "   [1 4 3]]\n",
            "\n",
            "  [[2 0 0]\n",
            "   [4 2 2]\n",
            "   [4 3 3]]\n",
            "\n",
            "  [[0 0 4]\n",
            "   [2 2 1]\n",
            "   [3 3 4]]\n",
            "\n",
            "  [[0 4 1]\n",
            "   [2 1 4]\n",
            "   [3 4 4]]\n",
            "\n",
            "  [[4 1 1]\n",
            "   [1 4 3]\n",
            "   [4 4 2]]\n",
            "\n",
            "  [[1 1 4]\n",
            "   [4 3 0]\n",
            "   [4 2 1]]\n",
            "\n",
            "  [[1 4 4]\n",
            "   [3 0 1]\n",
            "   [2 1 3]]\n",
            "\n",
            "  [[4 4 4]\n",
            "   [0 1 1]\n",
            "   [1 3 4]]]\n",
            "\n",
            "\n",
            " [[[4 4 2]\n",
            "   [1 4 3]\n",
            "   [3 1 0]]\n",
            "\n",
            "  [[4 2 2]\n",
            "   [4 3 3]\n",
            "   [1 0 0]]\n",
            "\n",
            "  [[2 2 1]\n",
            "   [3 3 4]\n",
            "   [0 0 2]]\n",
            "\n",
            "  [[2 1 4]\n",
            "   [3 4 4]\n",
            "   [0 2 2]]\n",
            "\n",
            "  [[1 4 3]\n",
            "   [4 4 2]\n",
            "   [2 2 2]]\n",
            "\n",
            "  [[4 3 0]\n",
            "   [4 2 1]\n",
            "   [2 2 0]]\n",
            "\n",
            "  [[3 0 1]\n",
            "   [2 1 3]\n",
            "   [2 0 0]]\n",
            "\n",
            "  [[0 1 1]\n",
            "   [1 3 4]\n",
            "   [0 0 3]]]\n",
            "\n",
            "\n",
            " [[[1 4 3]\n",
            "   [3 1 0]\n",
            "   [3 1 0]]\n",
            "\n",
            "  [[4 3 3]\n",
            "   [1 0 0]\n",
            "   [1 0 4]]\n",
            "\n",
            "  [[3 3 4]\n",
            "   [0 0 2]\n",
            "   [0 4 0]]\n",
            "\n",
            "  [[3 4 4]\n",
            "   [0 2 2]\n",
            "   [4 0 3]]\n",
            "\n",
            "  [[4 4 2]\n",
            "   [2 2 2]\n",
            "   [0 3 1]]\n",
            "\n",
            "  [[4 2 1]\n",
            "   [2 2 0]\n",
            "   [3 1 3]]\n",
            "\n",
            "  [[2 1 3]\n",
            "   [2 0 0]\n",
            "   [1 3 2]]\n",
            "\n",
            "  [[1 3 4]\n",
            "   [0 0 3]\n",
            "   [3 2 4]]]\n",
            "\n",
            "\n",
            " [[[3 1 0]\n",
            "   [3 1 0]\n",
            "   [3 0 3]]\n",
            "\n",
            "  [[1 0 0]\n",
            "   [1 0 4]\n",
            "   [0 3 2]]\n",
            "\n",
            "  [[0 0 2]\n",
            "   [0 4 0]\n",
            "   [3 2 0]]\n",
            "\n",
            "  [[0 2 2]\n",
            "   [4 0 3]\n",
            "   [2 0 2]]\n",
            "\n",
            "  [[2 2 2]\n",
            "   [0 3 1]\n",
            "   [0 2 3]]\n",
            "\n",
            "  [[2 2 0]\n",
            "   [3 1 3]\n",
            "   [2 3 2]]\n",
            "\n",
            "  [[2 0 0]\n",
            "   [1 3 2]\n",
            "   [3 2 1]]\n",
            "\n",
            "  [[0 0 3]\n",
            "   [3 2 4]\n",
            "   [2 1 4]]]\n",
            "\n",
            "\n",
            " [[[3 1 0]\n",
            "   [3 0 3]\n",
            "   [0 3 0]]\n",
            "\n",
            "  [[1 0 4]\n",
            "   [0 3 2]\n",
            "   [3 0 4]]\n",
            "\n",
            "  [[0 4 0]\n",
            "   [3 2 0]\n",
            "   [0 4 0]]\n",
            "\n",
            "  [[4 0 3]\n",
            "   [2 0 2]\n",
            "   [4 0 3]]\n",
            "\n",
            "  [[0 3 1]\n",
            "   [0 2 3]\n",
            "   [0 3 0]]\n",
            "\n",
            "  [[3 1 3]\n",
            "   [2 3 2]\n",
            "   [3 0 2]]\n",
            "\n",
            "  [[1 3 2]\n",
            "   [3 2 1]\n",
            "   [0 2 4]]\n",
            "\n",
            "  [[3 2 4]\n",
            "   [2 1 4]\n",
            "   [2 4 4]]]\n",
            "\n",
            "\n",
            " [[[3 0 3]\n",
            "   [0 3 0]\n",
            "   [4 4 4]]\n",
            "\n",
            "  [[0 3 2]\n",
            "   [3 0 4]\n",
            "   [4 4 0]]\n",
            "\n",
            "  [[3 2 0]\n",
            "   [0 4 0]\n",
            "   [4 0 1]]\n",
            "\n",
            "  [[2 0 2]\n",
            "   [4 0 3]\n",
            "   [0 1 1]]\n",
            "\n",
            "  [[0 2 3]\n",
            "   [0 3 0]\n",
            "   [1 1 3]]\n",
            "\n",
            "  [[2 3 2]\n",
            "   [3 0 2]\n",
            "   [1 3 0]]\n",
            "\n",
            "  [[3 2 1]\n",
            "   [0 2 4]\n",
            "   [3 0 1]]\n",
            "\n",
            "  [[2 1 4]\n",
            "   [2 4 4]\n",
            "   [0 1 1]]]\n",
            "\n",
            "\n",
            " [[[0 3 0]\n",
            "   [4 4 4]\n",
            "   [0 1 4]]\n",
            "\n",
            "  [[3 0 4]\n",
            "   [4 4 0]\n",
            "   [1 4 1]]\n",
            "\n",
            "  [[0 4 0]\n",
            "   [4 0 1]\n",
            "   [4 1 4]]\n",
            "\n",
            "  [[4 0 3]\n",
            "   [0 1 1]\n",
            "   [1 4 0]]\n",
            "\n",
            "  [[0 3 0]\n",
            "   [1 1 3]\n",
            "   [4 0 0]]\n",
            "\n",
            "  [[3 0 2]\n",
            "   [1 3 0]\n",
            "   [0 0 2]]\n",
            "\n",
            "  [[0 2 4]\n",
            "   [3 0 1]\n",
            "   [0 2 2]]\n",
            "\n",
            "  [[2 4 4]\n",
            "   [0 1 1]\n",
            "   [2 2 1]]]]\n"
          ]
        }
      ],
      "source": [
        "Z = np.random.randint(0,5,(10,10))\n",
        "n = 3\n",
        "i = 1 + (Z.shape[0]-3)\n",
        "j = 1 + (Z.shape[1]-3)\n",
        "C = stride_tricks.as_strided(Z, shape=(i, j, n, n), strides=Z.strides + Z.strides)\n",
        "print(C)"
      ]
    },
    {
      "cell_type": "markdown",
      "metadata": {
        "id": "CENimBXm28tQ"
      },
      "source": [
        "#### 85. Create a 2D array subclass such that Z\\[i,j\\] == Z\\[j,i\\] (★★★) \n",
        "(**hint**: class method)"
      ]
    },
    {
      "cell_type": "code",
      "execution_count": null,
      "metadata": {
        "id": "Y-KPmouu28tR",
        "colab": {
          "base_uri": "https://localhost:8080/"
        },
        "outputId": "dcceca0d-67a5-4db0-f168-a46641a24414"
      },
      "outputs": [
        {
          "output_type": "stream",
          "name": "stdout",
          "text": [
            "[[ 5  8  6  9 17]\n",
            " [ 8  6 11 12  7]\n",
            " [ 6 11  3 42  3]\n",
            " [ 9 12 42  4 12]\n",
            " [17  7  3 12  4]]\n"
          ]
        }
      ],
      "source": [
        "class Symetric(np.ndarray):\n",
        "    def __setitem__(self, index, value):\n",
        "        i,j = index\n",
        "        super(Symetric, self).__setitem__((i,j), value)\n",
        "        super(Symetric, self).__setitem__((j,i), value)\n",
        "\n",
        "def symetric(Z):\n",
        "    return np.asarray(Z + Z.T - np.diag(Z.diagonal())).view(Symetric)\n",
        "\n",
        "S = symetric(np.random.randint(0,10,(5,5)))\n",
        "S[2,3] = 42\n",
        "print(S)"
      ]
    },
    {
      "cell_type": "markdown",
      "metadata": {
        "id": "QrhFixpJ28tS"
      },
      "source": [
        "#### 86. Consider a set of p matrices wich shape (n,n) and a set of p vectors with shape (n,1). How to compute the sum of of the p matrix products at once? (result has shape (n,1)) (★★★) \n",
        "(**hint**: np.tensordot)"
      ]
    },
    {
      "cell_type": "code",
      "execution_count": null,
      "metadata": {
        "id": "uAaKpn-I28tU",
        "colab": {
          "base_uri": "https://localhost:8080/"
        },
        "outputId": "db8fa894-1c29-40ba-aafc-2fd61b9fff24"
      },
      "outputs": [
        {
          "output_type": "stream",
          "name": "stdout",
          "text": [
            "[[200.]\n",
            " [200.]\n",
            " [200.]\n",
            " [200.]\n",
            " [200.]\n",
            " [200.]\n",
            " [200.]\n",
            " [200.]\n",
            " [200.]\n",
            " [200.]\n",
            " [200.]\n",
            " [200.]\n",
            " [200.]\n",
            " [200.]\n",
            " [200.]\n",
            " [200.]\n",
            " [200.]\n",
            " [200.]\n",
            " [200.]\n",
            " [200.]]\n"
          ]
        }
      ],
      "source": [
        "p, n = 10, 20\n",
        "M = np.ones((p,n,n))\n",
        "V = np.ones((p,n,1))\n",
        "S = np.tensordot(M, V, axes=[[0, 2], [0, 1]])\n",
        "print(S)\n"
      ]
    },
    {
      "cell_type": "markdown",
      "metadata": {
        "id": "aCQL_LJN28tV"
      },
      "source": [
        "#### 87. Consider a 16x16 array, how to get the block-sum (block size is 4x4)? (★★★) \n",
        "(**hint**: np.add.reduceat)"
      ]
    },
    {
      "cell_type": "code",
      "execution_count": null,
      "metadata": {
        "id": "g_6wdQJf28tW",
        "colab": {
          "base_uri": "https://localhost:8080/"
        },
        "outputId": "6fc20f17-04f5-43b9-fff9-940f9a315cb5"
      },
      "outputs": [
        {
          "output_type": "stream",
          "name": "stdout",
          "text": [
            "[[16. 16. 16. 16.]\n",
            " [16. 16. 16. 16.]\n",
            " [16. 16. 16. 16.]\n",
            " [16. 16. 16. 16.]]\n"
          ]
        }
      ],
      "source": [
        "Z = np.ones((16,16))\n",
        "k = 4\n",
        "S = np.add.reduceat(np.add.reduceat(Z, np.arange(0, Z.shape[0], k), axis=0),\n",
        "                                       np.arange(0, Z.shape[1], k), axis=1)\n",
        "print(S)"
      ]
    },
    {
      "cell_type": "markdown",
      "metadata": {
        "id": "Si6JGn9e28tX"
      },
      "source": [
        "#### 88. How to implement the Game of Life using numpy arrays? (★★★)"
      ]
    },
    {
      "cell_type": "code",
      "execution_count": null,
      "metadata": {
        "id": "dceu2_ah28tY",
        "colab": {
          "base_uri": "https://localhost:8080/"
        },
        "outputId": "32feed15-21e6-41f0-e699-aec0a072c338"
      },
      "outputs": [
        {
          "output_type": "stream",
          "name": "stdout",
          "text": [
            "[[0 0 0 ... 0 0 0]\n",
            " [0 0 0 ... 0 0 0]\n",
            " [0 0 0 ... 0 0 0]\n",
            " ...\n",
            " [0 0 0 ... 0 0 0]\n",
            " [0 0 0 ... 0 0 0]\n",
            " [0 0 0 ... 0 0 0]]\n"
          ]
        }
      ],
      "source": [
        "def iterate(Z):\n",
        "    # Count neighbours\n",
        "    N = (Z[0:-2,0:-2] + Z[0:-2,1:-1] + Z[0:-2,2:] +\n",
        "         Z[1:-1,0:-2]                + Z[1:-1,2:] +\n",
        "         Z[2:  ,0:-2] + Z[2:  ,1:-1] + Z[2:  ,2:])\n",
        "\n",
        "    # Apply rules\n",
        "    birth = (N==3) & (Z[1:-1,1:-1]==0)\n",
        "    survive = ((N==2) | (N==3)) & (Z[1:-1,1:-1]==1)\n",
        "    Z[...] = 0\n",
        "    Z[1:-1,1:-1][birth | survive] = 1\n",
        "    return Z\n",
        "Z = np.random.randint(0,2,(50,50))\n",
        "for i in range(100): Z = iterate(Z)\n",
        "print(Z)"
      ]
    },
    {
      "cell_type": "markdown",
      "metadata": {
        "id": "WD0X0OgU28ta"
      },
      "source": [
        "#### 89. How to get the n largest values of an array (★★★) \n",
        "(**hint**: np.argsort | np.argpartition)"
      ]
    },
    {
      "cell_type": "code",
      "execution_count": null,
      "metadata": {
        "id": "H4vp-qCD28tb",
        "colab": {
          "base_uri": "https://localhost:8080/"
        },
        "outputId": "d092b4b6-28d4-49a2-c7ac-77ecd7f5ca7b"
      },
      "outputs": [
        {
          "output_type": "stream",
          "name": "stdout",
          "text": [
            "[9995 9996 9997 9998 9999]\n",
            "[9999 9998 9996 9997 9995]\n"
          ]
        }
      ],
      "source": [
        "Z = np.arange(10000)\n",
        "np.random.shuffle(Z)\n",
        "n = 5\n",
        "\n",
        "# Slow\n",
        "print (Z[np.argsort(Z)[-n:]])\n",
        "\n",
        "# Fast\n",
        "print (Z[np.argpartition(-Z,n)[:n]])\n"
      ]
    },
    {
      "cell_type": "markdown",
      "metadata": {
        "id": "ohBb2Neb28tc"
      },
      "source": [
        "#### 90. Given an arbitrary number of vectors, build the cartesian product (every combinations of every item) (★★★) \n",
        "(**hint**: np.indices)"
      ]
    },
    {
      "cell_type": "code",
      "execution_count": null,
      "metadata": {
        "scrolled": true,
        "id": "bXlVDZnO28td",
        "colab": {
          "base_uri": "https://localhost:8080/"
        },
        "outputId": "485ffef3-f7c9-49ee-8e97-cf2bba421f58"
      },
      "outputs": [
        {
          "output_type": "stream",
          "name": "stdout",
          "text": [
            "[[1 4 6]\n",
            " [1 4 7]\n",
            " [1 5 6]\n",
            " [1 5 7]\n",
            " [2 4 6]\n",
            " [2 4 7]\n",
            " [2 5 6]\n",
            " [2 5 7]\n",
            " [3 4 6]\n",
            " [3 4 7]\n",
            " [3 5 6]\n",
            " [3 5 7]]\n"
          ]
        }
      ],
      "source": [
        "def cartesian(arrays):\n",
        "    arrays = [np.asarray(a) for a in arrays]\n",
        "    shape = (len(x) for x in arrays)\n",
        "\n",
        "    ix = np.indices(shape, dtype=int)\n",
        "    ix = ix.reshape(len(arrays), -1).T\n",
        "\n",
        "    for n, arr in enumerate(arrays):\n",
        "        ix[:, n] = arrays[n][ix[:, n]]\n",
        "\n",
        "    return ix\n",
        "\n",
        "print (cartesian(([1, 2, 3], [4, 5], [6, 7])))\n"
      ]
    },
    {
      "cell_type": "markdown",
      "metadata": {
        "id": "NERQiJWj28td"
      },
      "source": [
        "#### 91. How to create a record array from a regular array? (★★★) \n",
        "(**hint**: np.core.records.fromarrays)"
      ]
    },
    {
      "cell_type": "markdown",
      "metadata": {
        "id": "oWnYVr7o28tg"
      },
      "source": [
        "#### 92. Consider a large vector Z, compute Z to the power of 3 using 3 different methods (★★★) \n",
        "(**hint**: np.power, \\*, np.einsum)"
      ]
    },
    {
      "cell_type": "code",
      "execution_count": null,
      "metadata": {
        "id": "NaqCJDRr28tj",
        "colab": {
          "base_uri": "https://localhost:8080/",
          "height": 378
        },
        "outputId": "278ed659-881a-4490-85b3-9d4150026e8c"
      },
      "outputs": [
        {
          "output_type": "error",
          "ename": "TypeError",
          "evalue": "ignored",
          "traceback": [
            "\u001b[0;31m---------------------------------------------------------------------------\u001b[0m",
            "\u001b[0;31mTypeError\u001b[0m                                 Traceback (most recent call last)",
            "\u001b[0;32m<ipython-input-149-3d232f0722da>\u001b[0m in \u001b[0;36m<module>\u001b[0;34m()\u001b[0m\n\u001b[0;32m----> 1\u001b[0;31m \u001b[0mx\u001b[0m \u001b[0;34m=\u001b[0m \u001b[0mnp\u001b[0m\u001b[0;34m.\u001b[0m\u001b[0mrandom\u001b[0m\u001b[0;34m.\u001b[0m\u001b[0mrand\u001b[0m\u001b[0;34m(\u001b[0m\u001b[0;36m5e7\u001b[0m\u001b[0;34m)\u001b[0m\u001b[0;34m\u001b[0m\u001b[0;34m\u001b[0m\u001b[0m\n\u001b[0m\u001b[1;32m      2\u001b[0m \u001b[0;34m\u001b[0m\u001b[0m\n\u001b[1;32m      3\u001b[0m \u001b[0mget_ipython\u001b[0m\u001b[0;34m(\u001b[0m\u001b[0;34m)\u001b[0m\u001b[0;34m.\u001b[0m\u001b[0mmagic\u001b[0m\u001b[0;34m(\u001b[0m\u001b[0;34m'timeit np.power(x,3)'\u001b[0m\u001b[0;34m)\u001b[0m\u001b[0;34m\u001b[0m\u001b[0;34m\u001b[0m\u001b[0m\n\u001b[1;32m      4\u001b[0m \u001b[0mget_ipython\u001b[0m\u001b[0;34m(\u001b[0m\u001b[0;34m)\u001b[0m\u001b[0;34m.\u001b[0m\u001b[0mmagic\u001b[0m\u001b[0;34m(\u001b[0m\u001b[0;34m'timeit x*x*x'\u001b[0m\u001b[0;34m)\u001b[0m\u001b[0;34m\u001b[0m\u001b[0;34m\u001b[0m\u001b[0m\n\u001b[1;32m      5\u001b[0m \u001b[0mget_ipython\u001b[0m\u001b[0;34m(\u001b[0m\u001b[0;34m)\u001b[0m\u001b[0;34m.\u001b[0m\u001b[0mmagic\u001b[0m\u001b[0;34m(\u001b[0m\u001b[0;34m\"timeit np.einsum('i,i,i->i',x,x,x)\"\u001b[0m\u001b[0;34m)\u001b[0m\u001b[0;34m\u001b[0m\u001b[0;34m\u001b[0m\u001b[0m\n",
            "\u001b[0;32mmtrand.pyx\u001b[0m in \u001b[0;36mnumpy.random.mtrand.RandomState.rand\u001b[0;34m()\u001b[0m\n",
            "\u001b[0;32mmtrand.pyx\u001b[0m in \u001b[0;36mnumpy.random.mtrand.RandomState.random_sample\u001b[0;34m()\u001b[0m\n",
            "\u001b[0;32m_common.pyx\u001b[0m in \u001b[0;36mnumpy.random._common.double_fill\u001b[0;34m()\u001b[0m\n",
            "\u001b[0;31mTypeError\u001b[0m: 'float' object cannot be interpreted as an integer"
          ]
        }
      ],
      "source": [
        "x = np.random.rand(5e7)\n",
        "\n",
        "%timeit np.power(x,3)\n",
        "%timeit x*x*x\n",
        "%timeit np.einsum('i,i,i->i',x,x,x)\n"
      ]
    },
    {
      "cell_type": "markdown",
      "metadata": {
        "id": "ZmEwT1tn28tk"
      },
      "source": [
        "#### 93. Consider two arrays A and B of shape (8,3) and (2,2). How to find rows of A that contain elements of each row of B regardless of the order of the elements in B? (★★★) \n",
        "(**hint**: np.where)"
      ]
    },
    {
      "cell_type": "code",
      "execution_count": null,
      "metadata": {
        "id": "snJ2_h5028tn",
        "colab": {
          "base_uri": "https://localhost:8080/"
        },
        "outputId": "297b09ae-417e-416d-8452-1e1011f11afa"
      },
      "outputs": [
        {
          "output_type": "stream",
          "name": "stdout",
          "text": [
            "[1 4 6 7]\n"
          ]
        }
      ],
      "source": [
        "A = np.random.randint(0,5,(8,3))\n",
        "B = np.random.randint(0,5,(2,2))\n",
        "\n",
        "C = (A[..., np.newaxis, np.newaxis] == B)\n",
        "rows = np.where(C.any((3,1)).all(1))[0]\n",
        "print(rows)\n"
      ]
    },
    {
      "cell_type": "markdown",
      "metadata": {
        "id": "QZafNQPI28tp"
      },
      "source": [
        "#### 94. Considering a 10x3 matrix, extract rows with unequal values (e.g. \\[2,2,3\\]) (★★★)"
      ]
    },
    {
      "cell_type": "code",
      "execution_count": null,
      "metadata": {
        "id": "gxdqSsWN28tr",
        "colab": {
          "base_uri": "https://localhost:8080/"
        },
        "outputId": "d4b42b7e-0eba-4083-c116-2c07d1060b45"
      },
      "outputs": [
        {
          "output_type": "stream",
          "name": "stdout",
          "text": [
            "[[4 0 3]\n",
            " [2 4 4]\n",
            " [3 3 0]\n",
            " [4 3 1]\n",
            " [4 4 2]\n",
            " [0 4 0]\n",
            " [4 2 2]\n",
            " [2 0 1]\n",
            " [0 1 0]\n",
            " [0 1 2]]\n",
            "[[4 0 3]\n",
            " [2 4 4]\n",
            " [3 3 0]\n",
            " [4 3 1]\n",
            " [4 4 2]\n",
            " [0 4 0]\n",
            " [4 2 2]\n",
            " [2 0 1]\n",
            " [0 1 0]\n",
            " [0 1 2]]\n",
            "[[4 0 3]\n",
            " [2 4 4]\n",
            " [3 3 0]\n",
            " [4 3 1]\n",
            " [4 4 2]\n",
            " [0 4 0]\n",
            " [4 2 2]\n",
            " [2 0 1]\n",
            " [0 1 0]\n",
            " [0 1 2]]\n"
          ]
        }
      ],
      "source": [
        "Z = np.random.randint(0,5,(10,3))\n",
        "print(Z)\n",
        "# solution for arrays of all dtypes (including string arrays and record arrays)\n",
        "E = np.all(Z[:,1:] == Z[:,:-1], axis=1)\n",
        "U = Z[~E]\n",
        "print(U)\n",
        "# soluiton for numerical arrays only, will work for any number of columns in Z\n",
        "U = Z[Z.max(axis=1) != Z.min(axis=1),:]\n",
        "print(U)"
      ]
    },
    {
      "cell_type": "markdown",
      "metadata": {
        "id": "NKDFb3sC28tr"
      },
      "source": [
        "#### 95. Convert a vector of ints into a matrix binary representation (★★★) \n",
        "(**hint**: np.unpackbits)"
      ]
    },
    {
      "cell_type": "code",
      "execution_count": null,
      "metadata": {
        "id": "9kFGMcZt28ts",
        "colab": {
          "base_uri": "https://localhost:8080/"
        },
        "outputId": "3523e26c-7d7b-4bd4-f5f3-11a0fd4735b4"
      },
      "outputs": [
        {
          "output_type": "stream",
          "name": "stdout",
          "text": [
            "[[0 0 0 0 0 0 0 0]\n",
            " [0 0 0 0 0 0 0 1]\n",
            " [0 0 0 0 0 0 1 0]\n",
            " [0 0 0 0 0 0 1 1]\n",
            " [0 0 0 0 1 1 1 1]\n",
            " [0 0 0 1 0 0 0 0]\n",
            " [0 0 1 0 0 0 0 0]\n",
            " [0 1 0 0 0 0 0 0]\n",
            " [1 0 0 0 0 0 0 0]]\n",
            "[[0 0 0 0 0 0 0 0]\n",
            " [0 0 0 0 0 0 0 1]\n",
            " [0 0 0 0 0 0 1 0]\n",
            " [0 0 0 0 0 0 1 1]\n",
            " [0 0 0 0 1 1 1 1]\n",
            " [0 0 0 1 0 0 0 0]\n",
            " [0 0 1 0 0 0 0 0]\n",
            " [0 1 0 0 0 0 0 0]\n",
            " [1 0 0 0 0 0 0 0]]\n"
          ]
        }
      ],
      "source": [
        "I = np.array([0, 1, 2, 3, 15, 16, 32, 64, 128])\n",
        "B = ((I.reshape(-1,1) & (2**np.arange(8))) != 0).astype(int)\n",
        "print(B[:,::-1])\n",
        "\n",
        "# Author: Daniel T. McDonald\n",
        "\n",
        "I = np.array([0, 1, 2, 3, 15, 16, 32, 64, 128], dtype=np.uint8)\n",
        "print(np.unpackbits(I[:, np.newaxis], axis=1))"
      ]
    },
    {
      "cell_type": "markdown",
      "metadata": {
        "id": "IqGxT7kY28tu"
      },
      "source": [
        "#### 96. Given a two dimensional array, how to extract unique rows? (★★★) \n",
        "(**hint**: np.ascontiguousarray)"
      ]
    },
    {
      "cell_type": "code",
      "execution_count": null,
      "metadata": {
        "id": "egQ5q7bw28tu",
        "colab": {
          "base_uri": "https://localhost:8080/"
        },
        "outputId": "a895b15e-4e47-4f2d-d369-6a555df9b295"
      },
      "outputs": [
        {
          "output_type": "stream",
          "name": "stdout",
          "text": [
            "[[0 0 0]\n",
            " [0 1 1]\n",
            " [1 0 0]\n",
            " [1 1 1]]\n",
            "[[0 0 0]\n",
            " [0 1 1]\n",
            " [1 0 0]\n",
            " [1 1 1]]\n"
          ]
        }
      ],
      "source": [
        "Z = np.random.randint(0,2,(6,3))\n",
        "T = np.ascontiguousarray(Z).view(np.dtype((np.void, Z.dtype.itemsize * Z.shape[1])))\n",
        "_, idx = np.unique(T, return_index=True)\n",
        "uZ = Z[idx]\n",
        "print(uZ)\n",
        "\n",
        "# Author: Andreas Kouzelis\n",
        "# NumPy >= 1.13\n",
        "uZ = np.unique(Z, axis=0)\n",
        "print(uZ)\n",
        "\n"
      ]
    },
    {
      "cell_type": "markdown",
      "metadata": {
        "id": "ALG6Q5MS28tv"
      },
      "source": [
        "#### 97. Considering 2 vectors A & B, write the einsum equivalent of inner, outer, sum, and mul function (★★★) \n",
        "(**hint**: np.einsum)"
      ]
    },
    {
      "cell_type": "code",
      "execution_count": null,
      "metadata": {
        "id": "_Tm0vDAo28tw",
        "colab": {
          "base_uri": "https://localhost:8080/"
        },
        "outputId": "9f76e24e-2c81-4f48-d645-52a346d07134"
      },
      "outputs": [
        {
          "output_type": "execute_result",
          "data": {
            "text/plain": [
              "array([[0.36978842, 0.65367267, 0.12715294, 0.54715374, 0.2124721 ,\n",
              "        0.58710508, 0.73408393, 0.44469707, 0.28578468, 0.37726424],\n",
              "       [0.287209  , 0.50769754, 0.09875774, 0.42496592, 0.16502382,\n",
              "        0.45599551, 0.57015173, 0.3453894 , 0.22196458, 0.29301535],\n",
              "       [0.17468144, 0.30878328, 0.06006478, 0.25846564, 0.10036802,\n",
              "        0.27733794, 0.34676812, 0.21006695, 0.13499957, 0.17821288],\n",
              "       [0.31717186, 0.5606627 , 0.10906057, 0.46930017, 0.18223981,\n",
              "        0.50356689, 0.62963237, 0.38142188, 0.24512086, 0.32358396],\n",
              "       [0.20381801, 0.36028781, 0.07008348, 0.30157728, 0.11710924,\n",
              "        0.32359744, 0.40460846, 0.24510576, 0.15751727, 0.20793849],\n",
              "       [0.28536191, 0.50443245, 0.09812261, 0.42223289, 0.16396253,\n",
              "        0.45306292, 0.56648498, 0.34316814, 0.22053709, 0.29113092],\n",
              "       [0.23670245, 0.41841743, 0.0813909 , 0.35023441, 0.13600389,\n",
              "        0.37580735, 0.46988886, 0.28465165, 0.18293145, 0.24148774],\n",
              "       [0.07157433, 0.1265215 , 0.02461106, 0.10590425, 0.041125  ,\n",
              "        0.11363702, 0.14208548, 0.08607326, 0.055315  , 0.07302131],\n",
              "       [0.11686372, 0.20657926, 0.04018396, 0.17291623, 0.06714726,\n",
              "        0.18554199, 0.23199151, 0.14053699, 0.09031613, 0.11922629],\n",
              "       [0.08711716, 0.15399646, 0.02995552, 0.12890204, 0.05005556,\n",
              "        0.13831404, 0.17294027, 0.10476463, 0.06732702, 0.08887837]])"
            ]
          },
          "metadata": {},
          "execution_count": 144
        }
      ],
      "source": [
        "A = np.random.uniform(0,1,10)\n",
        "B = np.random.uniform(0,1,10)\n",
        "\n",
        "np.einsum('i->', A)       # np.sum(A)\n",
        "np.einsum('i,i->i', A, B) # A * B\n",
        "np.einsum('i,i', A, B)    # np.inner(A, B)\n",
        "np.einsum('i,j->ij', A, B)    # np.outer(A, B)"
      ]
    },
    {
      "cell_type": "markdown",
      "metadata": {
        "id": "GFHoD8uv28tx"
      },
      "source": [
        "#### 98. Considering a path described by two vectors (X,Y), how to sample it using equidistant samples (★★★)? \n",
        "(**hint**: np.cumsum, np.interp)"
      ]
    },
    {
      "cell_type": "code",
      "execution_count": null,
      "metadata": {
        "collapsed": true,
        "id": "dTBKnIZq28ty"
      },
      "outputs": [],
      "source": [
        "phi = np.arange(0, 10*np.pi, 0.1)\n",
        "a = 1\n",
        "x = a*phi*np.cos(phi)\n",
        "y = a*phi*np.sin(phi)\n",
        "\n",
        "dr = (np.diff(x)**2 + np.diff(y)**2)**.5 # segment lengths\n",
        "r = np.zeros_like(x)\n",
        "r[1:] = np.cumsum(dr)                # integrate path\n",
        "r_int = np.linspace(0, r.max(), 200) # regular spaced path\n",
        "x_int = np.interp(r_int, r, x)       # integrate path\n",
        "y_int = np.interp(r_int, r, y)"
      ]
    },
    {
      "cell_type": "markdown",
      "metadata": {
        "id": "Q0wNyKBJ28t0"
      },
      "source": [
        "#### 99. Given an integer n and a 2D array X, select from X the rows which can be interpreted as draws from a multinomial distribution with n degrees, i.e., the rows which only contain integers and which sum to n. (★★★) \n",
        "(**hint**: np.logical\\_and.reduce, np.mod)"
      ]
    },
    {
      "cell_type": "code",
      "execution_count": null,
      "metadata": {
        "id": "wCgdg9C528t2",
        "colab": {
          "base_uri": "https://localhost:8080/"
        },
        "outputId": "14971fe5-54c2-4cb1-8edc-3718f6f2ff7e"
      },
      "outputs": [
        {
          "output_type": "stream",
          "name": "stdout",
          "text": [
            "[[2. 0. 1. 1.]]\n"
          ]
        }
      ],
      "source": [
        "X = np.asarray([[1.0, 0.0, 3.0, 8.0],\n",
        "                [2.0, 0.0, 1.0, 1.0],\n",
        "                [1.5, 2.5, 1.0, 0.0]])\n",
        "n = 4\n",
        "M = np.logical_and.reduce(np.mod(X, 1) == 0, axis=-1)\n",
        "M &= (X.sum(axis=-1) == n)\n",
        "print(X[M])"
      ]
    },
    {
      "cell_type": "markdown",
      "metadata": {
        "id": "JMHkd10728t3"
      },
      "source": [
        "#### 100. Compute bootstrapped 95% confidence intervals for the mean of a 1D array X (i.e., resample the elements of an array with replacement N times, compute the mean of each sample, and then compute percentiles over the means). (★★★) \n",
        "(**hint**: np.percentile)"
      ]
    },
    {
      "cell_type": "code",
      "execution_count": null,
      "metadata": {
        "id": "jy6a86mg28t4",
        "colab": {
          "base_uri": "https://localhost:8080/"
        },
        "outputId": "847d9d95-c2aa-4c3d-8272-3208d32dfaad"
      },
      "outputs": [
        {
          "output_type": "stream",
          "name": "stdout",
          "text": [
            "[-0.25099091  0.16347803]\n"
          ]
        }
      ],
      "source": [
        "X = np.random.randn(100) # random 1D array\n",
        "N = 1000 # number of bootstrap samples\n",
        "idx = np.random.randint(0, X.size, (N, X.size))\n",
        "means = X[idx].mean(axis=1)\n",
        "confint = np.percentile(means, [2.5, 97.5])\n",
        "print(confint)"
      ]
    }
  ],
  "metadata": {
    "kernelspec": {
      "display_name": "Python 3",
      "language": "python",
      "name": "python3"
    },
    "language_info": {
      "codemirror_mode": {
        "name": "ipython",
        "version": 3
      },
      "file_extension": ".py",
      "mimetype": "text/x-python",
      "name": "python",
      "nbconvert_exporter": "python",
      "pygments_lexer": "ipython3",
      "version": "3.8.3"
    },
    "colab": {
      "name": "Numpy_tasks.ipynb",
      "provenance": [],
      "collapsed_sections": [
        "fZiHjYhH28pr"
      ],
      "include_colab_link": true
    }
  },
  "nbformat": 4,
  "nbformat_minor": 0
}